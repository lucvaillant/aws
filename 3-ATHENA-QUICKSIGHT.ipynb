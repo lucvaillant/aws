{
 "cells": [
  {
   "cell_type": "markdown",
   "metadata": {},
   "source": [
    "ATHENA on CSV (EU-WEST-1)\n",
    "===\n"
   ]
  },
  {
   "cell_type": "code",
   "execution_count": null,
   "metadata": {
    "collapsed": true
   },
   "outputs": [],
   "source": [
    "!echo \"BUCKETNAME on EU-WEST-1 : $USER-$WORKSHOP-aws-bigdata-workshop\""
   ]
  },
  {
   "cell_type": "markdown",
   "metadata": {},
   "source": [
    "- Go to https://console.aws.amazon.com/athena/home?region=eu-west-1#\n",
    "- In the \"query editor\" put the following code\n",
    "\n",
    "```\n",
    "CREATE EXTERNAL TABLE IF NOT EXISTS default.clinton ( \n",
    "      `id` bigint, \n",
    "      `name` string, \n",
    "      `message` string, \n",
    "      `ts` bigint, \n",
    "      `isodate` timestamp, \n",
    "      `date` string \n",
    "    ) \n",
    "    ROW FORMAT SERDE 'org.apache.hadoop.hive.serde2.lazy.LazySimpleSerDe' \n",
    "    WITH SERDEPROPERTIES ( \n",
    "      'serialization.format' = ',', \n",
    "      'field.delim' = '|' \n",
    "    ) LOCATION 's3://PLEASE-REPLACE-WITH-YOUR-BUCKET-NAME-ON-EU-WEST-1/split/Hillary/' \n",
    "    TBLPROPERTIES ('has_encrypted_data'='false'); \n",
    "```\n",
    "- put another request\n",
    "\n",
    "```\n",
    "CREATE EXTERNAL TABLE IF NOT EXISTS default.trump ( \n",
    "      `id` bigint, \n",
    "      `name` string, \n",
    "      `message` string, \n",
    "      `ts` bigint, \n",
    "      `isodate` timestamp, \n",
    "      `date` string \n",
    "    ) \n",
    "    ROW FORMAT SERDE 'org.apache.hadoop.hive.serde2.lazy.LazySimpleSerDe' \n",
    "    WITH SERDEPROPERTIES ( \n",
    "      'serialization.format' = ',', \n",
    "      'field.delim' = '|' \n",
    "    ) LOCATION 's3://PLEASE-REPLACE-WITH-YOUR-BUCKET-NAME-EU-WEST-1/split/Donald/' \n",
    "    TBLPROPERTIES ('has_encrypted_data'='false');\n",
    "    ```"
   ]
  },
  {
   "cell_type": "markdown",
   "metadata": {},
   "source": [
    "You can test some requests\n",
    "\n",
    "```\n",
    "select * from clinton limit 100;\n",
    "select count(distinct id) from clinton;\n",
    "select count(distinct id) from clinton where message like '%obama%';\n",
    "\n",
    "select date_trunc('day', isodate) as date,'clinton' as candidate,count(distinct id) as count from clinton group by 1 union select date_trunc('day', isodate) as date,'trump' as candidate,count(distinct id) as count from trump group by 1 \n",
    "\n",
    "```"
   ]
  },
  {
   "cell_type": "markdown",
   "metadata": {},
   "source": []
  },
  {
   "cell_type": "markdown",
   "metadata": {},
   "source": [
    "QUICKSIGHT (EU-WEST-1)\n",
    "===\n",
    "\n",
    "- Open the console https://console.aws.amazon.com/console/home?region=us-east-1#\n",
    "- Choose Quicksight in the console \n",
    "- if new Quicksight user \n",
    " - please specify when asked an email address\n",
    "- follow steps to autorize Athena service on your S3 bucket http://docs.aws.amazon.com/fr_fr/quicksight/latest/user/managing-permissions.html\n",
    "- Click \"new analysis\"\n",
    "- Click \"new data set\"\n",
    "- Choose Athena and name it \"potus\"\n",
    "- Choose database \"default\" and your Athena table \"clinton\" and click \"select\"\n",
    "- Select \"Import to SPICE for quicker analytics\"\n",
    "- Press \"Edit/Preview data\"\n",
    "- Click \"Tables\" in left menu\n",
    "- Click \"Switch to custom SQL menu\"\n",
    "- Insert ```select date_trunc('day', isodate) as date,'clinton' as candidate,count(distinct id) as count from clinton group by 1 union select date_trunc('day', isodate) as date,'trump' as candidate,count(distinct id) as count from trump group by 1 ```\n",
    "- Click \"finish\"\n",
    "- Re-select Spice datasource\n",
    "- Click in menu \"Save and vizualize\"\n",
    "- Select fields \"date\", \"candidate\" and \"count\" and autograph will create a vizualation automatically\n",
    "- You can import a new dataset (https://s3-eu-west-1.amazonaws.com/obe-wrk-paris/sondages.xlsx) to compare tweets count with polls\n"
   ]
  }
 ],
 "metadata": {
  "kernelspec": {
   "display_name": "Python 3",
   "language": "python",
   "name": "python3"
  },
  "language_info": {
   "codemirror_mode": {
    "name": "ipython",
    "version": 3
   },
   "file_extension": ".py",
   "mimetype": "text/x-python",
   "name": "python",
   "nbconvert_exporter": "python",
   "pygments_lexer": "ipython3",
   "version": "3.6.2"
  }
 },
 "nbformat": 4,
 "nbformat_minor": 2
}
