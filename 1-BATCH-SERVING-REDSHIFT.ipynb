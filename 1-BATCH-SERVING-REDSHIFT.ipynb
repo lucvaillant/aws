{
 "cells": [
  {
   "cell_type": "markdown",
   "metadata": {},
   "source": [
    "Batch and Serving Layer with Redshift\n",
    "===\n",
    "\n",
    "Create a single-node Amazon Redshift data warehouse from the the admin EC2 linux instance"
   ]
  },
  {
   "cell_type": "markdown",
   "metadata": {},
   "source": [
    "Before creating the Redshift cluster, let's prepare the Environment Variables **VPCSGID** and **SUBNET** with the following commands:"
   ]
  },
  {
   "cell_type": "code",
   "execution_count": 1,
   "metadata": {},
   "outputs": [],
   "source": [
    "import boto3,os\n",
    "cf = boto3.client('cloudformation', region_name='eu-west-1')\n",
    "response = cf.describe_stacks(StackName=os.getenv('STACKNAME'))\n",
    "outputs = response['Stacks'][0]['Outputs']\n",
    "for output in outputs:\n",
    "    if output['OutputKey'] == 'VPCSGID':\n",
    "        os.environ['VPCSGID']=output['OutputValue']\n",
    "    if output['OutputKey'] == 'Subnet':\n",
    "        os.environ['SUBNET']=output['OutputValue']"
   ]
  },
  {
   "cell_type": "code",
   "execution_count": 2,
   "metadata": {},
   "outputs": [
    {
     "name": "stdout",
     "output_type": "stream",
     "text": [
      "{\r\n",
      "    \"ClusterSubnetGroup\": {\r\n",
      "        \"Subnets\": [\r\n",
      "            {\r\n",
      "                \"SubnetStatus\": \"Active\", \r\n",
      "                \"SubnetIdentifier\": \"subnet-0f774bb671f63cd6a\", \r\n",
      "                \"SubnetAvailabilityZone\": {\r\n",
      "                    \"Name\": \"eu-west-1a\"\r\n",
      "                }\r\n",
      "            }\r\n",
      "        ], \r\n",
      "        \"VpcId\": \"vpc-07c0f1ff6c834c706\", \r\n",
      "        \"Description\": \"user6161018\", \r\n",
      "        \"Tags\": [], \r\n",
      "        \"SubnetGroupStatus\": \"Complete\", \r\n",
      "        \"ClusterSubnetGroupName\": \"user6161018\"\r\n",
      "    }\r\n",
      "}\r\n"
     ]
    }
   ],
   "source": [
    "!aws redshift create-cluster-subnet-group --cluster-subnet-group-name $USER$WORKSHOP --description $USER$WORKSHOP \\\n",
    "    --subnet-ids $SUBNET --region eu-west-1"
   ]
  },
  {
   "cell_type": "code",
   "execution_count": 3,
   "metadata": {},
   "outputs": [
    {
     "name": "stdout",
     "output_type": "stream",
     "text": [
      "{\r\n",
      "    \"Cluster\": {\r\n",
      "        \"Encrypted\": false, \r\n",
      "        \"ClusterVersion\": \"1.0\", \r\n",
      "        \"NumberOfNodes\": 1, \r\n",
      "        \"VpcId\": \"vpc-07c0f1ff6c834c706\", \r\n",
      "        \"NodeType\": \"dc1.large\", \r\n",
      "        \"PubliclyAccessible\": true, \r\n",
      "        \"Tags\": [], \r\n",
      "        \"MasterUsername\": \"admin\", \r\n",
      "        \"ClusterParameterGroups\": [\r\n",
      "            {\r\n",
      "                \"ParameterGroupName\": \"default.redshift-1.0\", \r\n",
      "                \"ParameterApplyStatus\": \"in-sync\"\r\n",
      "            }\r\n",
      "        ], \r\n",
      "        \"AutomatedSnapshotRetentionPeriod\": 1, \r\n",
      "        \"EnhancedVpcRouting\": false, \r\n",
      "        \"IamRoles\": [], \r\n",
      "        \"AllowVersionUpgrade\": true, \r\n",
      "        \"VpcSecurityGroups\": [\r\n",
      "            {\r\n",
      "                \"Status\": \"active\", \r\n",
      "                \"VpcSecurityGroupId\": \"sg-0490f59a9fdd9c28c\"\r\n",
      "            }\r\n",
      "        ], \r\n",
      "        \"MaintenanceTrackName\": \"current\", \r\n",
      "        \"ClusterSubnetGroupName\": \"user6161018\", \r\n",
      "        \"ClusterSecurityGroups\": [], \r\n",
      "        \"ClusterStatus\": \"creating\", \r\n",
      "        \"ClusterIdentifier\": \"user6-161018-workshopcluster\", \r\n",
      "        \"PreferredMaintenanceWindow\": \"thu:00:00-thu:00:30\", \r\n",
      "        \"PendingModifiedValues\": {\r\n",
      "            \"MasterUserPassword\": \"****\"\r\n",
      "        }\r\n",
      "    }\r\n",
      "}\r\n"
     ]
    }
   ],
   "source": [
    "!aws redshift create-cluster --cluster-type single-node --vpc-security-group-ids $VPCSGID \\\n",
    "--node-type dc1.large --master-username admin --master-user-password Wpwd1216 \\\n",
    "--cluster-identifier $USER-$WORKSHOP-workshopcluster \\\n",
    "--publicly-accessible --region eu-west-1 --cluster-subnet-group-name $USER$WORKSHOP"
   ]
  },
  {
   "cell_type": "markdown",
   "metadata": {},
   "source": [
    "Time to create two policies and a new IAM role **dedicated to Redshift data import**"
   ]
  },
  {
   "cell_type": "code",
   "execution_count": 4,
   "metadata": {},
   "outputs": [],
   "source": [
    "%%bash\n",
    "echo \"\"\"{\n",
    "  \\\"Version\\\":\\\"2012-10-17\\\",\n",
    "  \\\"Statement\\\": [\n",
    "    {\n",
    "      \\\"Effect\\\": \\\"Allow\\\",\n",
    "      \\\"Principal\\\": {\n",
    "        \\\"Service\\\": \\\"redshift.amazonaws.com\\\"\n",
    "      },\n",
    "      \\\"Action\\\": \\\"sts:AssumeRole\\\"\n",
    "    }\n",
    "  ]\n",
    "}\">assumerole-redshift-policy.json"
   ]
  },
  {
   "cell_type": "code",
   "execution_count": 5,
   "metadata": {},
   "outputs": [],
   "source": [
    "%%bash\n",
    "echo \"{\n",
    "  \\\"Version\\\": \\\"2012-10-17\\\",\n",
    "  \\\"Statement\\\": [\n",
    "    {\n",
    "      \\\"Effect\\\": \\\"Allow\\\",\n",
    "      \\\"Action\\\": [\n",
    "        \\\"s3:Get*\\\",\n",
    "        \\\"s3:List*\\\"\n",
    "      ],\n",
    "      \\\"Resource\\\": \\\"*\\\"\n",
    "    }\n",
    "  ]\n",
    "}\">s3-read-policy.json"
   ]
  },
  {
   "cell_type": "code",
   "execution_count": 6,
   "metadata": {},
   "outputs": [
    {
     "name": "stdout",
     "output_type": "stream",
     "text": [
      "{\r\n",
      "    \"Role\": {\r\n",
      "        \"AssumeRolePolicyDocument\": {\r\n",
      "            \"Version\": \"2012-10-17\", \r\n",
      "            \"Statement\": [\r\n",
      "                {\r\n",
      "                    \"Action\": \"sts:AssumeRole\", \r\n",
      "                    \"Effect\": \"Allow\", \r\n",
      "                    \"Principal\": {\r\n",
      "                        \"Service\": \"redshift.amazonaws.com\"\r\n",
      "                    }\r\n",
      "                }\r\n",
      "            ]\r\n",
      "        }, \r\n",
      "        \"RoleId\": \"AROAJVD27YA2EU6MJDOJO\", \r\n",
      "        \"CreateDate\": \"2018-10-16T09:09:59Z\", \r\n",
      "        \"RoleName\": \"user6-161018-role-redshift-s3\", \r\n",
      "        \"Path\": \"/\", \r\n",
      "        \"Arn\": \"arn:aws:iam::129182954833:role/user6-161018-role-redshift-s3\"\r\n",
      "    }\r\n",
      "}\r\n"
     ]
    }
   ],
   "source": [
    "!aws iam create-role --role-name $USER-$WORKSHOP-role-redshift-s3 \\\n",
    "  --assume-role-policy-document file://assumerole-redshift-policy.json"
   ]
  },
  {
   "cell_type": "code",
   "execution_count": 7,
   "metadata": {},
   "outputs": [],
   "source": [
    "!aws iam put-role-policy --role-name $USER-$WORKSHOP-role-redshift-s3 --policy-name \\\n",
    "    $USER-$WORKSHOP-redshift-s3-r --policy-document file://s3-read-policy.json"
   ]
  },
  {
   "cell_type": "markdown",
   "metadata": {},
   "source": [
    "You will have to **wait** your cluster on https://eu-west-1.console.aws.amazon.com/redshift/home?region=eu-west-1#cluster-list to be in **\"Available\" mode**.\n",
    "\n",
    "When available it's time to attach the newly created IAM role to your cluster.\n",
    "\n",
    "If you get a \"Cluster is not in available state\" response, please wait a little and retry."
   ]
  },
  {
   "cell_type": "code",
   "execution_count": 17,
   "metadata": {},
   "outputs": [
    {
     "name": "stdout",
     "output_type": "stream",
     "text": [
      "{\r\n",
      "    \"Cluster\": {\r\n",
      "        \"PubliclyAccessible\": true, \r\n",
      "        \"MasterUsername\": \"admin\", \r\n",
      "        \"VpcSecurityGroups\": [\r\n",
      "            {\r\n",
      "                \"Status\": \"active\", \r\n",
      "                \"VpcSecurityGroupId\": \"sg-0490f59a9fdd9c28c\"\r\n",
      "            }\r\n",
      "        ], \r\n",
      "        \"NumberOfNodes\": 1, \r\n",
      "        \"PendingModifiedValues\": {}, \r\n",
      "        \"VpcId\": \"vpc-07c0f1ff6c834c706\", \r\n",
      "        \"ClusterVersion\": \"1.0\", \r\n",
      "        \"Tags\": [], \r\n",
      "        \"AutomatedSnapshotRetentionPeriod\": 1, \r\n",
      "        \"ClusterParameterGroups\": [\r\n",
      "            {\r\n",
      "                \"ParameterGroupName\": \"default.redshift-1.0\", \r\n",
      "                \"ParameterApplyStatus\": \"in-sync\"\r\n",
      "            }\r\n",
      "        ], \r\n",
      "        \"PreferredMaintenanceWindow\": \"thu:00:00-thu:00:30\", \r\n",
      "        \"Endpoint\": {\r\n",
      "            \"Port\": 5439, \r\n",
      "            \"Address\": \"user6-161018-workshopcluster.cm633nfk9ggq.eu-west-1.redshift.amazonaws.com\"\r\n",
      "        }, \r\n",
      "        \"IamRoles\": [\r\n",
      "            {\r\n",
      "                \"ApplyStatus\": \"adding\", \r\n",
      "                \"IamRoleArn\": \"arn:aws:iam::129182954833:role/user6-161018-role-redshift-s3\"\r\n",
      "            }\r\n",
      "        ], \r\n",
      "        \"AllowVersionUpgrade\": true, \r\n",
      "        \"MaintenanceTrackName\": \"current\", \r\n",
      "        \"ClusterCreateTime\": \"2018-10-16T09:16:28.917Z\", \r\n",
      "        \"ClusterSubnetGroupName\": \"user6161018\", \r\n",
      "        \"EnhancedVpcRouting\": false, \r\n",
      "        \"ClusterSecurityGroups\": [], \r\n",
      "        \"ClusterIdentifier\": \"user6-161018-workshopcluster\", \r\n",
      "        \"AvailabilityZone\": \"eu-west-1a\", \r\n",
      "        \"NodeType\": \"dc1.large\", \r\n",
      "        \"Encrypted\": false, \r\n",
      "        \"ClusterStatus\": \"modifying\"\r\n",
      "    }\r\n",
      "}\r\n"
     ]
    }
   ],
   "source": [
    "!aws redshift modify-cluster-iam-roles --cluster-identifier \"$USER-$WORKSHOP-workshopcluster\" \\\n",
    "--add-iam-roles \"arn:aws:iam::$ACCOUNTID:role/$USER-$WORKSHOP-role-redshift-s3\" --region eu-west-1"
   ]
  },
  {
   "cell_type": "markdown",
   "metadata": {},
   "source": [
    "See the following command to check the state."
   ]
  },
  {
   "cell_type": "code",
   "execution_count": 9,
   "metadata": {},
   "outputs": [
    {
     "name": "stdout",
     "output_type": "stream",
     "text": [
      "{\r\n",
      "    \"Clusters\": [\r\n",
      "        {\r\n",
      "            \"PubliclyAccessible\": true, \r\n",
      "            \"MasterUsername\": \"admin\", \r\n",
      "            \"VpcSecurityGroups\": [\r\n",
      "                {\r\n",
      "                    \"Status\": \"active\", \r\n",
      "                    \"VpcSecurityGroupId\": \"sg-0490f59a9fdd9c28c\"\r\n",
      "                }\r\n",
      "            ], \r\n",
      "            \"ClusterPublicKey\": \"ssh-rsa AAAAB3NzaC1yc2EAAAADAQABAAABAQCe4Lgb66VaZF+kqadZp50Tm2QkOErYo205IHrr7l/Jpr7A39JA8TmC7GtmYUxcykX578Sy7NQM7+ZiiIqZuLmUuWOPdj9S3EjncficPrlcicPixfDuRN1KzIrmEJMAcCYKeVuGkDqUVFyouibYopm3anrPR4uxCtlncoyYzikJMdFtxW3+dkUNAHvV0EiUbOqNY+GW15mKYewdUB/tNUfs70v1RFz8m7lAlqOp/WOFP1c0PkyRG0cEgdBykFT2ck9uUH+5N2EQa1+5f6JvRADg2/+hLprTZWdrqdYSZOBt4/hghOUcI1i71nVjlSkI/hkiM8AJw6yJrl53AAyOXGNf Amazon-Redshift\\n\", \r\n",
      "            \"NumberOfNodes\": 1, \r\n",
      "            \"PendingModifiedValues\": {}, \r\n",
      "            \"VpcId\": \"vpc-07c0f1ff6c834c706\", \r\n",
      "            \"ClusterVersion\": \"1.0\", \r\n",
      "            \"Tags\": [], \r\n",
      "            \"AutomatedSnapshotRetentionPeriod\": 1, \r\n",
      "            \"ClusterParameterGroups\": [\r\n",
      "                {\r\n",
      "                    \"ParameterGroupName\": \"default.redshift-1.0\", \r\n",
      "                    \"ParameterApplyStatus\": \"in-sync\"\r\n",
      "                }\r\n",
      "            ], \r\n",
      "            \"PreferredMaintenanceWindow\": \"thu:00:00-thu:00:30\", \r\n",
      "            \"Endpoint\": {\r\n",
      "                \"Port\": 5439, \r\n",
      "                \"Address\": \"user6-161018-workshopcluster.cm633nfk9ggq.eu-west-1.redshift.amazonaws.com\"\r\n",
      "            }, \r\n",
      "            \"IamRoles\": [], \r\n",
      "            \"AllowVersionUpgrade\": true, \r\n",
      "            \"MaintenanceTrackName\": \"current\", \r\n",
      "            \"ClusterCreateTime\": \"2018-10-16T09:16:28.917Z\", \r\n",
      "            \"ClusterSubnetGroupName\": \"user6161018\", \r\n",
      "            \"EnhancedVpcRouting\": false, \r\n",
      "            \"ClusterSecurityGroups\": [], \r\n",
      "            \"ClusterIdentifier\": \"user6-161018-workshopcluster\", \r\n",
      "            \"ClusterNodes\": [\r\n",
      "                {\r\n",
      "                    \"NodeRole\": \"SHARED\", \r\n",
      "                    \"PrivateIPAddress\": \"10.192.10.190\", \r\n",
      "                    \"PublicIPAddress\": \"18.203.124.98\"\r\n",
      "                }\r\n",
      "            ], \r\n",
      "            \"AvailabilityZone\": \"eu-west-1a\", \r\n",
      "            \"NodeType\": \"dc1.large\", \r\n",
      "            \"Encrypted\": false, \r\n",
      "            \"ClusterRevisionNumber\": \"4349\", \r\n",
      "            \"ClusterStatus\": \"available\"\r\n",
      "        }\r\n",
      "    ]\r\n",
      "}\r\n"
     ]
    }
   ],
   "source": [
    "!aws redshift describe-clusters --cluster-identifier $USER-$WORKSHOP-workshopcluster --region eu-west-1"
   ]
  },
  {
   "cell_type": "markdown",
   "metadata": {},
   "source": [
    "**Now it's time to use our database**\n",
    "\n",
    "For that time\n",
    " - 1st to create a table\n",
    " - 2nd to test an insertion\n",
    " - 3rd to use COPY to load a sample of 5 millions lines\n",
    " \n",
    "**don't forget to update REDSHIFT-URL with URL coming from previous describe-cluster**"
   ]
  },
  {
   "cell_type": "code",
   "execution_count": 10,
   "metadata": {},
   "outputs": [
    {
     "name": "stdout",
     "output_type": "stream",
     "text": [
      "env: REDSHIFTURL=user6-161018-workshopcluster.cm633nfk9ggq.eu-west-1.redshift.amazonaws.com\n"
     ]
    }
   ],
   "source": [
    "env REDSHIFTURL=user6-161018-workshopcluster.cm633nfk9ggq.eu-west-1.redshift.amazonaws.com"
   ]
  },
  {
   "cell_type": "code",
   "execution_count": 11,
   "metadata": {},
   "outputs": [
    {
     "name": "stdout",
     "output_type": "stream",
     "text": [
      "CREATE TABLE\r\n"
     ]
    }
   ],
   "source": [
    "!export PGPASSWORD='Wpwd1216';psql -h $REDSHIFTURL -p 5439 dev -U admin \\\n",
    " -c 'create table hillary (id bigint, name varchar, text varchar(1024),time bigint,isodate timestamp);'"
   ]
  },
  {
   "cell_type": "code",
   "execution_count": 12,
   "metadata": {},
   "outputs": [
    {
     "name": "stdout",
     "output_type": "stream",
     "text": [
      " schemaname | tablename | column  |            type             | encoding | distkey | sortkey | notnull \r\n",
      "------------+-----------+---------+-----------------------------+----------+---------+---------+---------\r\n",
      " public     | hillary   | id      | bigint                      | lzo      | f       |       0 | f\r\n",
      " public     | hillary   | name    | character varying(256)      | lzo      | f       |       0 | f\r\n",
      " public     | hillary   | text    | character varying(1024)     | lzo      | f       |       0 | f\r\n",
      " public     | hillary   | time    | bigint                      | lzo      | f       |       0 | f\r\n",
      " public     | hillary   | isodate | timestamp without time zone | lzo      | f       |       0 | f\r\n",
      "(5 rows)\r\n",
      "\r\n"
     ]
    }
   ],
   "source": [
    "!export PGPASSWORD='Wpwd1216';psql -h $REDSHIFTURL -p 5439 dev -U admin \\\n",
    " -c \"select * from pg_table_def where tablename = 'hillary';\""
   ]
  },
  {
   "cell_type": "markdown",
   "metadata": {},
   "source": [
    "LZO encoding provides a very high compression ratio with good performance. LZO encoding works especially well for CHAR and VARCHAR columns that store very long character strings, especially free form text, such as product descriptions, user comments, or JSON strings. LZO is the default encoding except for columns that are designated as sort keys and columns that are defined as BOOLEAN, REAL, or DOUBLE PRECISION data types."
   ]
  },
  {
   "cell_type": "code",
   "execution_count": 13,
   "metadata": {},
   "outputs": [
    {
     "name": "stdout",
     "output_type": "stream",
     "text": [
      " id | name | text | time | isodate \r\n",
      "----+------+------+------+---------\r\n",
      "(0 rows)\r\n",
      "\r\n"
     ]
    }
   ],
   "source": [
    "!export PGPASSWORD='Wpwd1216';psql -h $REDSHIFTURL -p 5439 \\\n",
    "  dev -U admin -c 'select * from hillary;'"
   ]
  },
  {
   "cell_type": "code",
   "execution_count": 14,
   "metadata": {},
   "outputs": [
    {
     "name": "stdout",
     "output_type": "stream",
     "text": [
      "INSERT 0 1\r\n"
     ]
    }
   ],
   "source": [
    "!export PGPASSWORD='Wpwd1216';psql -h $REDSHIFTURL -p 5439 \\\n",
    "  dev -U admin -c \\\n",
    "    \"insert into hillary values (777263619033661400,'User','Test message',1474418015000,'2016-09-17 21:51:02');\""
   ]
  },
  {
   "cell_type": "code",
   "execution_count": 15,
   "metadata": {},
   "outputs": [
    {
     "name": "stdout",
     "output_type": "stream",
     "text": [
      "         id         | name |     text     |     time      |       isodate       \r\n",
      "--------------------+------+--------------+---------------+---------------------\r\n",
      " 777263619033661400 | User | Test message | 1474418015000 | 2016-09-17 21:51:02\r\n",
      "(1 row)\r\n",
      "\r\n"
     ]
    }
   ],
   "source": [
    "!export PGPASSWORD='Wpwd1216';psql -h $REDSHIFTURL -p 5439 \\\n",
    "  dev -U admin -c 'select * from hillary;'"
   ]
  },
  {
   "cell_type": "code",
   "execution_count": 19,
   "metadata": {},
   "outputs": [
    {
     "name": "stdout",
     "output_type": "stream",
     "text": [
      "INFO:  Load into table 'hillary' completed, 5000000 record(s) loaded successfully.\n",
      "COPY\n"
     ]
    }
   ],
   "source": [
    "!export PGPASSWORD='Wpwd1216';psql -h $REDSHIFTURL \\\n",
    "  -p 5439 dev -U admin \\\n",
    "    -c \"copy hillary from 's3://$USER-$WORKSHOP-aws-bigdata-workshop/sample/Hillary-aa' escape region 'eu-west-1' \\\n",
    "      credentials 'aws_iam_role=arn:aws:iam::$ACCOUNTID:role/$USER-$WORKSHOP-role-redshift-s3' dateformat 'auto';\""
   ]
  },
  {
   "cell_type": "markdown",
   "metadata": {},
   "source": [
    "By default, the COPY command applies automatic compression whenever you run the COPY command with an empty target table and all of the table columns either have RAW encoding or no encoding."
   ]
  },
  {
   "cell_type": "code",
   "execution_count": 20,
   "metadata": {},
   "outputs": [
    {
     "name": "stdout",
     "output_type": "stream",
     "text": [
      "  Table  | Column  | Encoding | Est_reduction_pct \r\n",
      "---------+---------+----------+-------------------\r\n",
      " hillary | id      | zstd     | 12.89\r\n",
      " hillary | name    | zstd     | 30.16\r\n",
      " hillary | text    | zstd     | 28.80\r\n",
      " hillary | time    | zstd     | 52.53\r\n",
      " hillary | isodate | zstd     | 45.22\r\n",
      "(5 rows)\r\n",
      "\r\n"
     ]
    }
   ],
   "source": [
    "!export PGPASSWORD='Wpwd1216';psql -h $REDSHIFTURL -p 5439 dev -U admin \\\n",
    " -c \"analyze compression hillary;\""
   ]
  },
  {
   "cell_type": "markdown",
   "metadata": {},
   "source": [
    "ANALYZE COMPRESSION performs compression analysis and produces a report with the suggested compression encoding for the tables analyzed. For each column, the report includes an estimate of the potential reduction in disk space compared to the current encoding."
   ]
  },
  {
   "cell_type": "markdown",
   "metadata": {},
   "source": [
    "Now we have the data, time to play with Redshift"
   ]
  },
  {
   "cell_type": "code",
   "execution_count": 21,
   "metadata": {},
   "outputs": [
    {
     "name": "stdout",
     "output_type": "stream",
     "text": [
      "         id         |      name       |               message               |       isodate       \r\n",
      "--------------------+-----------------+-------------------------------------+---------------------\r\n",
      " 780543483404808200 | williamjones8   | RT @HillaryClinton: ���You didn���t | 2016-09-26 23:04:02\r\n",
      " 780543482993582100 | hassaaninator   | RT @HillaryClinton: ���You didn���t | 2016-09-26 23:04:02\r\n",
      " 780543482024763400 | GabrielleLozano | RT @Jeritron2016: @HillaryClint     | 2016-09-26 23:04:02\r\n",
      " 780543480674345000 | FrankDiFlorio1  | RT @HillaryClinton: ���You didn���t | 2016-09-26 23:04:02\r\n",
      " 780543479411830800 | JennDub2        | RT @HillaryClinton: ���You didn���t | 2016-09-26 23:04:01\r\n",
      " 780543479160070100 | MikeRGreenhalgh | RT @FoxNews: Poll: @realDonaldT     | 2016-09-26 23:04:01\r\n",
      " 780543478656671700 | DamnGoodPolls   | Are you going to watch the pres     | 2016-09-26 23:04:01\r\n",
      " 780543477562081300 | SebastianRio    | I'm excited about #debatenight      | 2016-09-26 23:04:01\r\n",
      " 780543476534566900 | findmenapping   | RT @Bikers4Trump: HILARIOUS! nO     | 2016-09-26 23:04:01\r\n",
      " 780543474600910800 | Pajaropolitico  | ��C��mo ser�� el primer agarr��n en | 2016-09-26 23:04:00\r\n",
      "(10 rows)\r\n",
      "\r\n"
     ]
    }
   ],
   "source": [
    "!export PGPASSWORD='Wpwd1216';psql -h $REDSHIFTURL -p 5439 \\\n",
    "  dev -U admin -c 'select id,name,substring(text,0,32) as message,isodate from hillary limit 10;'"
   ]
  },
  {
   "cell_type": "code",
   "execution_count": 22,
   "metadata": {},
   "outputs": [
    {
     "name": "stdout",
     "output_type": "stream",
     "text": [
      "  count  \r\n",
      "---------\r\n",
      " 5000001\r\n",
      "(1 row)\r\n",
      "\r\n"
     ]
    }
   ],
   "source": [
    "!export PGPASSWORD='Wpwd1216';psql -h $REDSHIFTURL -p 5439 \\\n",
    "  dev -U admin -c 'select count(*) from hillary;'"
   ]
  },
  {
   "cell_type": "code",
   "execution_count": 23,
   "metadata": {},
   "outputs": [
    {
     "name": "stdout",
     "output_type": "stream",
     "text": [
      "  count  \r\n",
      "---------\r\n",
      " 4211397\r\n",
      "(1 row)\r\n",
      "\r\n"
     ]
    }
   ],
   "source": [
    "!export PGPASSWORD='Wpwd1216';psql -h $REDSHIFTURL -p 5439 \\\n",
    "  dev -U admin -c 'select count(distinct id) from hillary;'"
   ]
  },
  {
   "cell_type": "code",
   "execution_count": 24,
   "metadata": {},
   "outputs": [
    {
     "name": "stdout",
     "output_type": "stream",
     "text": [
      "  count  \r\n",
      "---------\r\n",
      " 1184930\r\n",
      "(1 row)\r\n",
      "\r\n"
     ]
    }
   ],
   "source": [
    "!export PGPASSWORD='Wpwd1216';psql -h $REDSHIFTURL -p 5439 \\\n",
    "  dev -U admin -c 'select count(distinct name) from hillary;'"
   ]
  },
  {
   "cell_type": "markdown",
   "metadata": {},
   "source": [
    "**Given the fact we have duplicates, we will create a new table with deduplicated data**"
   ]
  },
  {
   "cell_type": "code",
   "execution_count": 25,
   "metadata": {},
   "outputs": [
    {
     "name": "stdout",
     "output_type": "stream",
     "text": [
      "CREATE TABLE\r\n"
     ]
    }
   ],
   "source": [
    "!export PGPASSWORD='Wpwd1216';psql -h $REDSHIFTURL -p 5439 \\\n",
    "  dev -U admin -c 'create table hillarydeduplicated \\\n",
    "  (id bigint encode zstd, name varchar encode zstd, text varchar(1024) encode zstd,time bigint encode zstd, \\\n",
    "      isodate timestamp encode zstd) distkey(isodate) ;'"
   ]
  },
  {
   "cell_type": "code",
   "execution_count": 26,
   "metadata": {},
   "outputs": [
    {
     "name": "stdout",
     "output_type": "stream",
     "text": [
      " schemaname |      tablename      | column  |            type             | encoding | distkey | sortkey | notnull \r\n",
      "------------+---------------------+---------+-----------------------------+----------+---------+---------+---------\r\n",
      " public     | hillarydeduplicated | id      | bigint                      | zstd     | f       |       0 | f\r\n",
      " public     | hillarydeduplicated | name    | character varying(256)      | zstd     | f       |       0 | f\r\n",
      " public     | hillarydeduplicated | text    | character varying(1024)     | zstd     | f       |       0 | f\r\n",
      " public     | hillarydeduplicated | time    | bigint                      | zstd     | f       |       0 | f\r\n",
      " public     | hillarydeduplicated | isodate | timestamp without time zone | zstd     | t       |       0 | f\r\n",
      "(5 rows)\r\n",
      "\r\n"
     ]
    }
   ],
   "source": [
    "!export PGPASSWORD='Wpwd1216';psql -h $REDSHIFTURL -p 5439 dev -U admin \\\n",
    " -c \"select * from pg_table_def where tablename = 'hillarydeduplicated';\""
   ]
  },
  {
   "cell_type": "code",
   "execution_count": 27,
   "metadata": {},
   "outputs": [
    {
     "name": "stdout",
     "output_type": "stream",
     "text": [
      "INSERT 0 4212150\r\n"
     ]
    }
   ],
   "source": [
    "!export PGPASSWORD='Wpwd1216';psql -h $REDSHIFTURL -p 5439 \\\n",
    "  dev -U admin -c 'insert into hillarydeduplicated (select distinct * from hillary);'"
   ]
  },
  {
   "cell_type": "markdown",
   "metadata": {},
   "source": [
    "**Now we can start some analysis on our sample**"
   ]
  },
  {
   "cell_type": "code",
   "execution_count": 28,
   "metadata": {},
   "outputs": [
    {
     "name": "stdout",
     "output_type": "stream",
     "text": [
      " count \r\n",
      "-------\r\n",
      " 90107\r\n",
      "(1 row)\r\n",
      "\r\n"
     ]
    }
   ],
   "source": [
    "!export PGPASSWORD='Wpwd1216';psql -h $REDSHIFTURL -p 5439 \\\n",
    "  dev -U admin -c \"select count(*) from hillarydeduplicated where text ilike '%bill%clinton%';\""
   ]
  },
  {
   "cell_type": "code",
   "execution_count": 29,
   "metadata": {},
   "outputs": [
    {
     "name": "stdout",
     "output_type": "stream",
     "text": [
      " count  \r\n",
      "--------\r\n",
      " 147599\r\n",
      "(1 row)\r\n",
      "\r\n"
     ]
    }
   ],
   "source": [
    "!export PGPASSWORD='Wpwd1216';psql -h $REDSHIFTURL -p 5439 \\\n",
    "  dev -U admin -c \"select count(*) from hillarydeduplicated where text ilike '%obama%';\""
   ]
  },
  {
   "cell_type": "markdown",
   "metadata": {},
   "source": [
    "LIKE is case-sensitive; ILIKE is case-insensitive."
   ]
  },
  {
   "cell_type": "markdown",
   "metadata": {},
   "source": [
    "Now, time to play with data. "
   ]
  },
  {
   "cell_type": "code",
   "execution_count": 30,
   "metadata": {},
   "outputs": [
    {
     "name": "stdout",
     "output_type": "stream",
     "text": [
      "TRUNCATE TABLE and COMMIT TRANSACTION\r\n"
     ]
    }
   ],
   "source": [
    "!export PGPASSWORD='Wpwd1216';psql -h $REDSHIFTURL -p 5439\\\n",
    "  dev -U admin -c \"truncate table hillary;\""
   ]
  },
  {
   "cell_type": "code",
   "execution_count": 31,
   "metadata": {},
   "outputs": [
    {
     "name": "stdout",
     "output_type": "stream",
     "text": [
      "TRUNCATE TABLE and COMMIT TRANSACTION\r\n"
     ]
    }
   ],
   "source": [
    "!export PGPASSWORD='Wpwd1216';psql -h $REDSHIFTURL -p 5439\\\n",
    "  dev -U admin -c \"truncate table hillarydeduplicated;\""
   ]
  },
  {
   "cell_type": "markdown",
   "metadata": {},
   "source": [
    "Deletes all of the rows from a table without doing a table scan: this operation is a faster alternative to an unqualified DELETE operation. To execute a TRUNCATE command, you must be the owner of the table or a superuser.\n",
    "\n",
    "TRUNCATE is much more efficient than DELETE and does not require a VACUUM and ANALYZE. However, be aware that TRUNCATE commits the transaction in which it is run."
   ]
  },
  {
   "cell_type": "code",
   "execution_count": 32,
   "metadata": {},
   "outputs": [
    {
     "name": "stdout",
     "output_type": "stream",
     "text": [
      "INFO:  Load into table 'hillary' completed, 27808777 record(s) loaded successfully.\n",
      "COPY\n"
     ]
    }
   ],
   "source": [
    "!export PGPASSWORD='Wpwd1216';psql -h $REDSHIFTURL \\\n",
    "  -p 5439 dev -U admin \\\n",
    "    -c \"copy hillary from 's3://$USER-$WORKSHOP-aws-bigdata-workshop/split/Hillary/' escape region 'eu-west-1' \\\n",
    "      credentials 'aws_iam_role=arn:aws:iam::$ACCOUNTID:role/$USER-$WORKSHOP-role-redshift-s3' dateformat 'auto';\""
   ]
  },
  {
   "cell_type": "code",
   "execution_count": 33,
   "metadata": {},
   "outputs": [
    {
     "name": "stdout",
     "output_type": "stream",
     "text": [
      "INSERT 0 17115623\r\n"
     ]
    }
   ],
   "source": [
    "!export PGPASSWORD='Wpwd1216';psql -h $REDSHIFTURL -p 5439 \\\n",
    "  dev -U admin -c 'insert into hillarydeduplicated (select distinct * from hillary);'"
   ]
  },
  {
   "cell_type": "code",
   "execution_count": 34,
   "metadata": {},
   "outputs": [
    {
     "name": "stdout",
     "output_type": "stream",
     "text": [
      "ANALYZE SKIP\r\n"
     ]
    }
   ],
   "source": [
    "!export PGPASSWORD='Wpwd1216';psql -h $REDSHIFTURL -p 5439\\\n",
    "  dev -U admin -c \"vacuum;analyze;\""
   ]
  },
  {
   "cell_type": "markdown",
   "metadata": {},
   "source": [
    "VACUUM : Reclaims space and resorts rows in either a specified table or all tables in the current database.\n",
    "\n",
    "ANALYZE : Updates table statistics for use by the query planner."
   ]
  },
  {
   "cell_type": "code",
   "execution_count": 35,
   "metadata": {},
   "outputs": [
    {
     "name": "stdout",
     "output_type": "stream",
     "text": [
      " count  \r\n",
      "--------\r\n",
      " 535432\r\n",
      "(1 row)\r\n",
      "\r\n"
     ]
    }
   ],
   "source": [
    "!export PGPASSWORD='Wpwd1216';psql -h $REDSHIFTURL -p 5439 \\\n",
    "  dev -U admin -c \"select count(*) from hillarydeduplicated where text ilike '%obama%';\""
   ]
  },
  {
   "cell_type": "markdown",
   "metadata": {},
   "source": [
    "REDSHIFT SPECTRUM and REDSHIFT (EU-WEST-1)\n",
    "===\n",
    "\n",
    "Amazon Redshift Spectrum requires engine version 1.0.1294 or later. To find the version number for your cluster, run the following command."
   ]
  },
  {
   "cell_type": "code",
   "execution_count": 36,
   "metadata": {},
   "outputs": [
    {
     "name": "stdout",
     "output_type": "stream",
     "text": [
      "                                                         version                                                          \r\n",
      "--------------------------------------------------------------------------------------------------------------------------\r\n",
      " PostgreSQL 8.0.2 on i686-pc-linux-gnu, compiled by GCC gcc (GCC) 3.4.2 20041017 (Red Hat 3.4.2-6.fc3), Redshift 1.0.4349\r\n",
      "(1 row)\r\n",
      "\r\n"
     ]
    }
   ],
   "source": [
    "!export PGPASSWORD='Wpwd1216';psql -h $REDSHIFTURL -p 5439 dev -U admin -c \"select version();\""
   ]
  },
  {
   "cell_type": "markdown",
   "metadata": {},
   "source": [
    "To create an external schema, replace the IAM role ARN in the following command with the role ARN you created in step 1, and then execute the command in your SQL client. "
   ]
  },
  {
   "cell_type": "code",
   "execution_count": 37,
   "metadata": {},
   "outputs": [],
   "source": [
    "%%bash\n",
    "echo \"{\n",
    "        \\\"Version\\\": \\\"2012-10-17\\\",\n",
    "        \\\"Statement\\\": [\n",
    "            {\n",
    "                \\\"Effect\\\": \\\"Allow\\\",\n",
    "                \\\"Action\\\": [\\\"athena:*\\\"],\n",
    "                \\\"Resource\\\": [\\\"*\\\"]\n",
    "            },\n",
    "            {\n",
    "                \\\"Effect\\\": \\\"Allow\\\",\n",
    "                \\\"Action\\\": [\\\"glue:*\\\"],\n",
    "                \\\"Resource\\\": [\\\"*\\\"]\n",
    "            }\n",
    "        ]\n",
    "}\">redshift-spectrum-policy.json"
   ]
  },
  {
   "cell_type": "code",
   "execution_count": 38,
   "metadata": {},
   "outputs": [],
   "source": [
    "!aws iam put-role-policy --role-name $USER-$WORKSHOP-role-redshift-s3 --policy-name \\\n",
    "    $USER-$WORKSHOP-redshift-spectrum --policy-document file://redshift-spectrum-policy.json"
   ]
  },
  {
   "cell_type": "code",
   "execution_count": 40,
   "metadata": {},
   "outputs": [
    {
     "name": "stdout",
     "output_type": "stream",
     "text": [
      "INFO:  External database \"potus_spectrum_db_user6161018\" created\n",
      "CREATE SCHEMA\n"
     ]
    }
   ],
   "source": [
    "!export PGPASSWORD='Wpwd1216';psql -h $REDSHIFTURL -p 5439\\\n",
    "  dev -U admin -c \"create external schema potus_spectrum_$USER$WORKSHOP \\\n",
    "  from data catalog database 'potus_spectrum_db_$USER$WORKSHOP' \\\n",
    "  iam_role 'arn:aws:iam::$ACCOUNTID:role/$USER-$WORKSHOP-role-redshift-s3' \\\n",
    "  create external database if not exists;\""
   ]
  },
  {
   "cell_type": "markdown",
   "metadata": {},
   "source": [
    "Some applications use the term database and schema interchangeably. In Amazon Redshift, we use the term schema.\n",
    "\n",
    "The previous example creates an external schema named potus_spectrum using the external database potus_spectrum_db."
   ]
  },
  {
   "cell_type": "code",
   "execution_count": 41,
   "metadata": {},
   "outputs": [
    {
     "name": "stdout",
     "output_type": "stream",
     "text": [
      "CREATE EXTERNAL TABLE\r\n"
     ]
    }
   ],
   "source": [
    "!export PGPASSWORD='Wpwd1216';psql -h $REDSHIFTURL -p 5439\\\n",
    "  dev -U admin -c \"create external table \\\n",
    "  potus_spectrum_$USER$WORKSHOP.clinton(id bigint,name varchar,message varchar(1024),ts bigint, \\\n",
    "  isodate timestamp, date varchar) row format delimited fields terminated by '|' stored as textfile \\\n",
    "  location 's3://aws-potus-eu-west-1/split/Hillary'\""
   ]
  },
  {
   "cell_type": "code",
   "execution_count": 42,
   "metadata": {},
   "outputs": [
    {
     "name": "stdout",
     "output_type": "stream",
     "text": [
      "         id         |      name       |               message               |       isodate       \r\n",
      "--------------------+-----------------+-------------------------------------+---------------------\r\n",
      " 780543483404808200 | williamjones8   | RT @HillaryClinton: ���You didn���t | 2016-09-26 23:04:02\r\n",
      " 780543483258044400 | MWChin          | Starting with: Are you a perjur     | 2016-09-26 23:04:02\r\n",
      " 780543482993582100 | hassaaninator   | RT @HillaryClinton: ���You didn���t | 2016-09-26 23:04:02\r\n",
      " 780543482486284300 | TJ_Pittinger    | One of y'all let the 2013 @FSU_     | 2016-09-26 23:04:02\r\n",
      " 780543482024763400 | GabrielleLozano | RT @Jeritron2016: @HillaryClint     | 2016-09-26 23:04:02\r\n",
      " 780543481349537800 | Anomaly100      | RT @HillaryClinton: Watch this      | 2016-09-26 23:04:02\r\n",
      " 780543480674345000 | FrankDiFlorio1  | RT @HillaryClinton: ���You didn���t | 2016-09-26 23:04:02\r\n",
      " 780543480489586700 | All4Hillary     | RT @HillaryIn2016: Who's ready      | 2016-09-26 23:04:02\r\n",
      " 780543479411830800 | JennDub2        | RT @HillaryClinton: ���You didn���t | 2016-09-26 23:04:01\r\n",
      " 780543479327887400 | Cmac152687261   | @HillaryClinton not voting for      | 2016-09-26 23:04:01\r\n",
      "(10 rows)\r\n",
      "\r\n"
     ]
    }
   ],
   "source": [
    "!export PGPASSWORD='Wpwd1216';psql -h $REDSHIFTURL -p 5439 \\\n",
    "  dev -U admin -c \"select id,name,substring(message,0,32) as message,isodate \\\n",
    "      from potus_spectrum_$USER$WORKSHOP.clinton limit 10;\""
   ]
  },
  {
   "cell_type": "code",
   "execution_count": 43,
   "metadata": {},
   "outputs": [
    {
     "name": "stdout",
     "output_type": "stream",
     "text": [
      "  count   \r\n",
      "----------\r\n",
      " 17111780\r\n",
      "(1 row)\r\n",
      "\r\n",
      "real 16.44\r\n",
      "user 0.00\r\n",
      "sys 0.00\r\n"
     ]
    }
   ],
   "source": [
    "!export PGPASSWORD='Wpwd1216';time -p psql -h $REDSHIFTURL -p 5439 \\\n",
    "  dev -U admin -c \"select count(distinct id) from potus_spectrum_$USER$WORKSHOP.clinton;\""
   ]
  },
  {
   "cell_type": "code",
   "execution_count": 44,
   "metadata": {},
   "outputs": [
    {
     "name": "stdout",
     "output_type": "stream",
     "text": [
      "  count   \r\n",
      "----------\r\n",
      " 17111780\r\n",
      "(1 row)\r\n",
      "\r\n",
      "real 5.66\r\n",
      "user 0.00\r\n",
      "sys 0.00\r\n"
     ]
    }
   ],
   "source": [
    "!export PGPASSWORD='Wpwd1216';time -p psql -h $REDSHIFTURL -p 5439 \\\n",
    "  dev -U admin -c 'select count(distinct id) from hillary;'"
   ]
  },
  {
   "cell_type": "code",
   "execution_count": 45,
   "metadata": {},
   "outputs": [
    {
     "name": "stdout",
     "output_type": "stream",
     "text": [
      "  count  \r\n",
      "---------\r\n",
      " 1045581\r\n",
      "(1 row)\r\n",
      "\r\n",
      "real 11.43\r\n",
      "user 0.00\r\n",
      "sys 0.00\r\n"
     ]
    }
   ],
   "source": [
    "!export PGPASSWORD='Wpwd1216';time -p psql -h $REDSHIFTURL -p 5439 \\\n",
    "  dev -U admin -c \"select count(*) from potus_spectrum_$USER$WORKSHOP.clinton where lower(message) like '%obama%';\""
   ]
  },
  {
   "cell_type": "code",
   "execution_count": 46,
   "metadata": {},
   "outputs": [
    {
     "name": "stdout",
     "output_type": "stream",
     "text": [
      "  count  \r\n",
      "---------\r\n",
      " 1045745\r\n",
      "(1 row)\r\n",
      "\r\n",
      "real 16.01\r\n",
      "user 0.00\r\n",
      "sys 0.00\r\n"
     ]
    }
   ],
   "source": [
    "!export PGPASSWORD='Wpwd1216';time -p psql -h $REDSHIFTURL -p 5439 \\\n",
    "  dev -U admin -c \"select count(*) from hillary where text ilike '%obama%';\""
   ]
  },
  {
   "cell_type": "markdown",
   "metadata": {},
   "source": [
    "In Presto like is case sensitive => we use the workaround based on lower(message) to have a case insensitive query.\n",
    "\n",
    "Redshift ilike is case insensitive."
   ]
  },
  {
   "cell_type": "code",
   "execution_count": null,
   "metadata": {
    "collapsed": true
   },
   "outputs": [],
   "source": []
  }
 ],
 "metadata": {
  "celltoolbar": "Raw Cell Format",
  "kernelspec": {
   "display_name": "Python 3",
   "language": "python",
   "name": "python3"
  },
  "language_info": {
   "codemirror_mode": {
    "name": "ipython",
    "version": 3
   },
   "file_extension": ".py",
   "mimetype": "text/x-python",
   "name": "python",
   "nbconvert_exporter": "python",
   "pygments_lexer": "ipython3",
   "version": "3.4.8"
  }
 },
 "nbformat": 4,
 "nbformat_minor": 2
}
