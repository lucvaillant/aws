{
 "cells": [
  {
   "cell_type": "markdown",
   "metadata": {},
   "source": [
    "**AMAZON MACHINE LEARNING WITH PYTHON**\n",
    "\n",
    "<hr>\n",
    "This notebook is about playing the content of : http://docs.aws.amazon.com/fr_fr/machine-learning/latest/dg/tutorial.html\n",
    "<hr>"
   ]
  },
  {
   "cell_type": "code",
   "execution_count": null,
   "metadata": {
    "collapsed": true
   },
   "outputs": [],
   "source": [
    "!echo $USER-aws-bigdata-workshop-us-east-1  "
   ]
  },
  {
   "cell_type": "markdown",
   "metadata": {},
   "source": [
    "**IMPORT THE DATASET**"
   ]
  },
  {
   "cell_type": "code",
   "execution_count": null,
   "metadata": {
    "collapsed": true
   },
   "outputs": [],
   "source": [
    "!mkdir ML"
   ]
  },
  {
   "cell_type": "code",
   "execution_count": null,
   "metadata": {
    "collapsed": true
   },
   "outputs": [],
   "source": [
    "!aws s3 cp s3://aws-potus-eu-west-1/ML/ ML/ --recursive --only-show-errors"
   ]
  },
  {
   "cell_type": "code",
   "execution_count": null,
   "metadata": {
    "collapsed": true
   },
   "outputs": [],
   "source": [
    "import pandas,os\n",
    "df = pandas.read_csv('ML/banking.csv', sep=',',error_bad_lines=False)\n",
    "df.head()"
   ]
  },
  {
   "cell_type": "markdown",
   "metadata": {},
   "source": [
    "**USE AMAZON MACHINELEARNING**"
   ]
  },
  {
   "cell_type": "code",
   "execution_count": null,
   "metadata": {
    "collapsed": true
   },
   "outputs": [],
   "source": [
    "import boto3"
   ]
  },
  {
   "cell_type": "code",
   "execution_count": null,
   "metadata": {
    "collapsed": true
   },
   "outputs": [],
   "source": [
    "ml = boto3.client('machinelearning',region_name='eu-west-1')"
   ]
  },
  {
   "cell_type": "markdown",
   "metadata": {},
   "source": [
    "It's needed to add permissions allow Amazon ML to access your bucket. \n",
    "Please follow the documentation : http://docs.aws.amazon.com/fr_fr/machine-learning/latest/dg/granting-amazon-ml-permissions-to-read-your-data-from-amazon-s3.html"
   ]
  },
  {
   "cell_type": "code",
   "execution_count": null,
   "metadata": {
    "collapsed": true
   },
   "outputs": [],
   "source": [
    "ds = ml.create_data_source_from_s3(DataSourceId= \"datasource-\"+os.getenv(\"USER\")+\"-\"+os.getenv(\"WORKSHOP\"),\\\n",
    "        DataSpec= {\"DataLocationS3\":\"s3://aws-potus-eu-west-1/ML/banking.csv\",\\\n",
    "        \"DataSchemaLocationS3\":\"s3://aws-potus-eu-west-1/ML/banking.schema\"},ComputeStatistics = True)"
   ]
  },
  {
   "cell_type": "code",
   "execution_count": null,
   "metadata": {
    "collapsed": true
   },
   "outputs": [],
   "source": [
    "print(ml.get_data_source(DataSourceId= \"datasource-\"+os.getenv(\"USER\")+\"-\"+os.getenv(\"WORKSHOP\")))"
   ]
  },
  {
   "cell_type": "code",
   "execution_count": null,
   "metadata": {
    "collapsed": true
   },
   "outputs": [],
   "source": [
    "model = ml.create_ml_model(\n",
    "   MLModelId=\"model-\"+os.getenv(\"USER\")+\"-\"+os.getenv(\"WORKSHOP\"), \n",
    "   MLModelType=\"BINARY\", \n",
    "   TrainingDataSourceId=\"datasource-\"+os.getenv(\"USER\")+\"-\"+os.getenv(\"WORKSHOP\"))"
   ]
  },
  {
   "cell_type": "code",
   "execution_count": null,
   "metadata": {
    "collapsed": true
   },
   "outputs": [],
   "source": [
    "print(ml.get_ml_model(MLModelId=\"model-\"+os.getenv(\"USER\")+\"-\"+os.getenv(\"WORKSHOP\")))"
   ]
  },
  {
   "cell_type": "markdown",
   "metadata": {},
   "source": [
    "<hr>\n",
    "Wait for **5 minute** in order to have Datasource and Model available. You can check the availability of the model with previous command : print(ml.get_ml_model('model'))\n",
    "<hr>"
   ]
  },
  {
   "cell_type": "markdown",
   "metadata": {},
   "source": [
    "**Time to evaluate the model**"
   ]
  },
  {
   "cell_type": "code",
   "execution_count": null,
   "metadata": {
    "collapsed": true
   },
   "outputs": [],
   "source": [
    "ml.create_evaluation(EvaluationId=\"evaluation-\"+os.getenv(\"USER\")+\"-\"+os.getenv(\"WORKSHOP\"),\\\n",
    "                    EvaluationName=\"evaluation-\"+os.getenv(\"USER\")+\"-\"+os.getenv(\"WORKSHOP\"),\\\n",
    "                    MLModelId=\"model-\"+os.getenv(\"USER\")+\"-\"+os.getenv(\"WORKSHOP\"),\\\n",
    "                    EvaluationDataSourceId=\"datasource-\"+os.getenv(\"USER\")+\"-\"+os.getenv(\"WORKSHOP\"))"
   ]
  },
  {
   "cell_type": "code",
   "execution_count": null,
   "metadata": {
    "collapsed": true
   },
   "outputs": [],
   "source": [
    "ml.get_evaluation(EvaluationId=\"evaluation-\"+os.getenv(\"USER\")+\"-\"+os.getenv(\"WORKSHOP\"))"
   ]
  },
  {
   "cell_type": "markdown",
   "metadata": {},
   "source": [
    "**Time to use the model**"
   ]
  },
  {
   "cell_type": "code",
   "execution_count": null,
   "metadata": {
    "collapsed": true
   },
   "outputs": [],
   "source": [
    "ml.create_realtime_endpoint(MLModelId=\"model-\"+os.getenv(\"USER\")+\"-\"+os.getenv(\"WORKSHOP\"))"
   ]
  },
  {
   "cell_type": "markdown",
   "metadata": {},
   "source": [
    "**Time to do a prediction**"
   ]
  },
  {
   "cell_type": "code",
   "execution_count": null,
   "metadata": {
    "collapsed": true
   },
   "outputs": [],
   "source": [
    "prediction = ml.predict(MLModelId=\"model-\"+os.getenv(\"USER\")+\"-\"+os.getenv(\"WORKSHOP\"),\\\n",
    "        PredictEndpoint='https://realtime.machinelearning.eu-west-1.amazonaws.com',\\\n",
    "            Record={'age':'32','job':'none','marital':'married','education':'university',})\n",
    "print(prediction)"
   ]
  },
  {
   "cell_type": "code",
   "execution_count": null,
   "metadata": {
    "collapsed": true
   },
   "outputs": [],
   "source": []
  }
 ],
 "metadata": {
  "kernelspec": {
   "display_name": "Python 3",
   "language": "python",
   "name": "python3"
  },
  "language_info": {
   "codemirror_mode": {
    "name": "ipython",
    "version": 3
   },
   "file_extension": ".py",
   "mimetype": "text/x-python",
   "name": "python",
   "nbconvert_exporter": "python",
   "pygments_lexer": "ipython3",
   "version": "3.6.2"
  }
 },
 "nbformat": 4,
 "nbformat_minor": 2
}
