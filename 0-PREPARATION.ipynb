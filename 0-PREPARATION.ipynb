{
 "cells": [
  {
   "cell_type": "markdown",
   "metadata": {},
   "source": [
    "AWS DATA WORKSHOP - JUPYTER VERSION - 2017\n",
    "===\n"
   ]
  },
  {
   "cell_type": "code",
   "execution_count": 1,
   "metadata": {},
   "outputs": [
    {
     "name": "stdout",
     "output_type": "stream",
     "text": [
      "Collecting awscli\n",
      "  Downloading https://files.pythonhosted.org/packages/f5/bf/3da21b6dc4c32bc8e60a4d145b1cf74944dc34557322a123795c6d13207f/awscli-1.16.34-py2.py3-none-any.whl (1.4MB)\n",
      "\u001b[K    100% |################################| 1.4MB 883kB/s ta 0:00:011\n",
      "\u001b[?25hCollecting PyYAML<=3.13,>=3.10 (from awscli)\n",
      "  Downloading https://files.pythonhosted.org/packages/9e/a3/1d13970c3f36777c583f136c136f804d70f500168edc1edea6daa7200769/PyYAML-3.13.tar.gz (270kB)\n",
      "\u001b[K    100% |################################| 276kB 3.2MB/s eta 0:00:01\n",
      "\u001b[?25hCollecting rsa<=3.5.0,>=3.1.2 (from awscli)\n",
      "  Downloading https://files.pythonhosted.org/packages/e1/ae/baedc9cb175552e95f3395c43055a6a5e125ae4d48a1d7a924baca83e92e/rsa-3.4.2-py2.py3-none-any.whl (46kB)\n",
      "\u001b[K    100% |################################| 51kB 7.5MB/s eta 0:00:01\n",
      "\u001b[?25hCollecting colorama<=0.3.9,>=0.2.5 (from awscli)\n",
      "  Downloading https://files.pythonhosted.org/packages/db/c8/7dcf9dbcb22429512708fe3a547f8b6101c0d02137acbd892505aee57adf/colorama-0.3.9-py2.py3-none-any.whl\n",
      "Collecting s3transfer<0.2.0,>=0.1.12 (from awscli)\n",
      "  Downloading https://files.pythonhosted.org/packages/d7/14/2a0004d487464d120c9fb85313a75cd3d71a7506955be458eebfe19a6b1d/s3transfer-0.1.13-py2.py3-none-any.whl (59kB)\n",
      "\u001b[K    100% |################################| 61kB 7.1MB/s eta 0:00:01\n",
      "\u001b[?25hCollecting botocore==1.12.24 (from awscli)\n",
      "  Downloading https://files.pythonhosted.org/packages/f2/d5/87898cf85de64d62ae716cb2397cd3e58cdf3ba82847b0803bd2c4393f78/botocore-1.12.24-py2.py3-none-any.whl (4.7MB)\n",
      "\u001b[K    100% |################################| 4.7MB 260kB/s eta 0:00:01\n",
      "\u001b[?25hCollecting docutils>=0.10 (from awscli)\n",
      "  Downloading https://files.pythonhosted.org/packages/50/09/c53398e0005b11f7ffb27b7aa720c617aba53be4fb4f4f3f06b9b5c60f28/docutils-0.14-py2-none-any.whl (543kB)\n",
      "\u001b[K    100% |################################| 552kB 2.3MB/s eta 0:00:01\n",
      "\u001b[?25hCollecting pyasn1>=0.1.3 (from rsa<=3.5.0,>=3.1.2->awscli)\n",
      "  Downloading https://files.pythonhosted.org/packages/d1/a1/7790cc85db38daa874f6a2e6308131b9953feb1367f2ae2d1123bb93a9f5/pyasn1-0.4.4-py2.py3-none-any.whl (72kB)\n",
      "\u001b[K    100% |################################| 81kB 11.4MB/s ta 0:00:01\n",
      "\u001b[?25hCollecting futures<4.0.0,>=2.2.0; python_version == \"2.6\" or python_version == \"2.7\" (from s3transfer<0.2.0,>=0.1.12->awscli)\n",
      "  Downloading https://files.pythonhosted.org/packages/2d/99/b2c4e9d5a30f6471e410a146232b4118e697fa3ffc06d6a65efde84debd0/futures-3.2.0-py2-none-any.whl\n",
      "Collecting jmespath<1.0.0,>=0.7.1 (from botocore==1.12.24->awscli)\n",
      "  Downloading https://files.pythonhosted.org/packages/b7/31/05c8d001f7f87f0f07289a5fc0fc3832e9a57f2dbd4d3b0fee70e0d51365/jmespath-0.9.3-py2.py3-none-any.whl\n",
      "Collecting python-dateutil<3.0.0,>=2.1; python_version >= \"2.7\" (from botocore==1.12.24->awscli)\n",
      "  Downloading https://files.pythonhosted.org/packages/cf/f5/af2b09c957ace60dcfac112b669c45c8c97e32f94aa8b56da4c6d1682825/python_dateutil-2.7.3-py2.py3-none-any.whl (211kB)\n",
      "\u001b[K    100% |################################| 215kB 5.2MB/s eta 0:00:01\n",
      "\u001b[?25hCollecting urllib3<1.24,>=1.20 (from botocore==1.12.24->awscli)\n",
      "  Downloading https://files.pythonhosted.org/packages/bd/c9/6fdd990019071a4a32a5e7cb78a1d92c53851ef4f56f62a3486e6a7d8ffb/urllib3-1.23-py2.py3-none-any.whl (133kB)\n",
      "\u001b[K    100% |################################| 143kB 8.0MB/s eta 0:00:01\n",
      "\u001b[?25hCollecting six>=1.5 (from python-dateutil<3.0.0,>=2.1; python_version >= \"2.7\"->botocore==1.12.24->awscli)\n",
      "  Downloading https://files.pythonhosted.org/packages/67/4b/141a581104b1f6397bfa78ac9d43d8ad29a7ca43ea90a2d863fe3056e86a/six-1.11.0-py2.py3-none-any.whl\n",
      "Installing collected packages: PyYAML, pyasn1, rsa, colorama, futures, jmespath, docutils, six, python-dateutil, urllib3, botocore, s3transfer, awscli\n",
      "  Running setup.py install for PyYAML ... \u001b[?25ldone\n",
      "\u001b[?25hSuccessfully installed PyYAML-3.13 awscli-1.16.34 botocore-1.12.24 colorama-0.3.9 docutils-0.14 futures-3.2.0 jmespath-0.9.3 pyasn1-0.4.4 python-dateutil-2.7.3 rsa-3.4.2 s3transfer-0.1.13 six-1.11.0 urllib3-1.23\n",
      "\u001b[33mYou are using pip version 9.0.1, however version 18.1 is available.\n",
      "You should consider upgrading via the 'pip install --upgrade pip' command.\u001b[0m\n"
     ]
    }
   ],
   "source": [
    "!pip install --upgrade --user awscli"
   ]
  },
  {
   "cell_type": "markdown",
   "metadata": {},
   "source": [
    "Preparation\n",
    "===\n",
    "We will first list all the S3 bucket on your account and then test the access of the S3 source bucket external your account."
   ]
  },
  {
   "cell_type": "markdown",
   "metadata": {},
   "source": [
    "Let's first check the "
   ]
  },
  {
   "cell_type": "code",
   "execution_count": 2,
   "metadata": {},
   "outputs": [
    {
     "data": {
      "text/plain": [
       "{'ACCOUNTID': '129182954833',\n",
       " 'CLICOLOR': '1',\n",
       " 'GIT_PAGER': 'cat',\n",
       " 'HOME': '/home/user6',\n",
       " 'JPY_API_TOKEN': '4533893b53cf4357845026e4a95cd60f',\n",
       " 'JPY_PARENT_PID': '131062',\n",
       " 'JUPYTERHUB_ADMIN_ACCESS': '1',\n",
       " 'JUPYTERHUB_API_TOKEN': '4533893b53cf4357845026e4a95cd60f',\n",
       " 'JUPYTERHUB_API_URL': 'http://127.0.0.1:8081/hub/api',\n",
       " 'JUPYTERHUB_BASE_URL': '/',\n",
       " 'JUPYTERHUB_CLIENT_ID': 'user-user6',\n",
       " 'JUPYTERHUB_HOST': '',\n",
       " 'JUPYTERHUB_OAUTH_CALLBACK_URL': '/user/user6/oauth_callback',\n",
       " 'JUPYTERHUB_SERVICE_PREFIX': '/user/user6/',\n",
       " 'JUPYTERHUB_USER': 'user6',\n",
       " 'MPLBACKEND': 'module://ipykernel.pylab.backend_inline',\n",
       " 'PAGER': 'cat',\n",
       " 'PATH': '/sbin:/bin:/usr/sbin:/usr/bin',\n",
       " 'SHELL': '/bin/bash',\n",
       " 'STACKNAME': 'BigData161018',\n",
       " 'SUBNET': 'subnet-0f774bb671f63cd6a',\n",
       " 'TERM': 'xterm-color',\n",
       " 'USER': 'user6',\n",
       " 'VPCSGID': 'sg-0490f59a9fdd9c28c',\n",
       " 'WORKSHOP': '161018'}"
      ]
     },
     "execution_count": 2,
     "metadata": {},
     "output_type": "execute_result"
    }
   ],
   "source": [
    "%env"
   ]
  },
  {
   "cell_type": "code",
   "execution_count": 3,
   "metadata": {},
   "outputs": [
    {
     "name": "stdout",
     "output_type": "stream",
     "text": [
      "2017-07-11 14:00:19 aws-athena-query-results-129182954833-eu-west-1\r\n",
      "2017-07-11 14:02:39 aws-athena-query-results-129182954833-us-east-1\r\n",
      "2017-11-29 15:51:35 aws-athena-query-results-eu-west-1-129182954833\r\n",
      "2018-06-06 14:53:10 aws-glue-scripts-129182954833-eu-west-1\r\n",
      "2018-06-06 14:53:11 aws-glue-temporary-129182954833-eu-west-1\r\n",
      "2018-01-05 12:14:56 billing-oberger-prod1\r\n",
      "2017-09-26 15:17:50 cf-templates-15zf4002c55ux-eu-west-1\r\n",
      "2018-03-17 10:34:33 cf-templates-15zf4002c55ux-us-east-1\r\n",
      "2017-07-10 08:20:49 cloudtrail-awslogs-129182954833-isengard-do-not-delete\r\n",
      "2018-08-30 16:25:17 do-not-delete-gatedgarden-audit-129182954833\r\n",
      "2018-03-20 15:59:27 sagemaker-eu-west-1-129182954833\r\n"
     ]
    }
   ],
   "source": [
    "!aws s3 ls"
   ]
  },
  {
   "cell_type": "code",
   "execution_count": 4,
   "metadata": {},
   "outputs": [
    {
     "name": "stdout",
     "output_type": "stream",
     "text": [
      "                           PRE ML/\r\n",
      "                           PRE full/\r\n",
      "                           PRE jupyter/\r\n",
      "                           PRE sample/\r\n",
      "                           PRE split/\r\n"
     ]
    }
   ],
   "source": [
    "!aws s3 ls aws-potus-eu-west-1"
   ]
  },
  {
   "cell_type": "markdown",
   "metadata": {},
   "source": [
    "**Time to create the bucket that you will use on eu-west-1 on to the workshop**. "
   ]
  },
  {
   "cell_type": "code",
   "execution_count": 5,
   "metadata": {},
   "outputs": [
    {
     "name": "stdout",
     "output_type": "stream",
     "text": [
      "{\r\n",
      "    \"Location\": \"http://user6-161018-aws-bigdata-workshop.s3.amazonaws.com/\"\r\n",
      "}\r\n"
     ]
    }
   ],
   "source": [
    "!aws s3api create-bucket --bucket $USER-$WORKSHOP-aws-bigdata-workshop  --region eu-west-1 \\\n",
    "  --create-bucket-configuration LocationConstraint=eu-west-1"
   ]
  },
  {
   "cell_type": "markdown",
   "metadata": {},
   "source": [
    "**Now we will copy all data (samples and full dataset)**"
   ]
  },
  {
   "cell_type": "code",
   "execution_count": 6,
   "metadata": {},
   "outputs": [],
   "source": [
    "!aws s3 sync s3://aws-potus-eu-west-1/ s3://$USER-$WORKSHOP-aws-bigdata-workshop/ \\\n",
    "        --source-region eu-west-1 --region eu-west-1 --only-show-errors"
   ]
  },
  {
   "cell_type": "markdown",
   "metadata": {},
   "source": [
    "Sample data are now on your bucket"
   ]
  },
  {
   "cell_type": "code",
   "execution_count": 7,
   "metadata": {},
   "outputs": [
    {
     "name": "stdout",
     "output_type": "stream",
     "text": [
      "                           PRE donald-with-sentiment.parquet/\r\n",
      "                           PRE last-day-Donald/\r\n",
      "                           PRE last-day-Hillary/\r\n",
      "                           PRE mini/\r\n",
      "                           PRE output/\r\n",
      "2018-10-16 08:55:20      39467 AFINN-en-165.txt\r\n",
      "2018-10-16 08:55:20      85187 Hillary-450-lines-Sample\r\n",
      "2018-10-16 08:55:20      85222 Hillary-450-lines-Sample-Header\r\n",
      "2018-10-16 08:55:20  956225022 Hillary-aa\r\n",
      "2018-10-16 08:55:20  956225053 Hillary-header\r\n",
      "2018-10-16 08:55:58          0 donald-with-sentiment.parquet_$folder$\r\n",
      "2018-10-16 08:55:58        228 hillary.q\r\n",
      "2018-10-16 08:56:52          0 output_$folder$\r\n",
      "2018-10-16 08:56:52         97 select-count-hillary.q\r\n"
     ]
    }
   ],
   "source": [
    "!aws s3 ls s3://$USER-$WORKSHOP-aws-bigdata-workshop/sample/"
   ]
  },
  {
   "cell_type": "markdown",
   "metadata": {},
   "source": [
    "Full data are also on your bucket"
   ]
  },
  {
   "cell_type": "code",
   "execution_count": 8,
   "metadata": {},
   "outputs": [
    {
     "name": "stdout",
     "output_type": "stream",
     "text": [
      "2018-10-16 08:57:10  956225022 Hillary-aa\r\n",
      "2018-10-16 08:57:10  956216347 Hillary-ab\r\n",
      "2018-10-16 08:57:10  956261068 Hillary-ac\r\n",
      "2018-10-16 08:57:10  956268811 Hillary-ad\r\n",
      "2018-10-16 08:57:21  956402067 Hillary-ae\r\n",
      "2018-10-16 08:57:29  537251914 Hillary-af\r\n"
     ]
    }
   ],
   "source": [
    "!aws s3 ls s3://$USER-$WORKSHOP-aws-bigdata-workshop/split/Hillary/"
   ]
  },
  {
   "cell_type": "code",
   "execution_count": 9,
   "metadata": {},
   "outputs": [
    {
     "name": "stdout",
     "output_type": "stream",
     "text": [
      "2018-10-16 08:56:52  940841831 Donald-aa\r\n",
      "2018-10-16 08:56:52  941023216 Donald-ab\r\n",
      "2018-10-16 08:56:52  941007161 Donald-ac\r\n",
      "2018-10-16 08:56:52  941027883 Donald-ad\r\n",
      "2018-10-16 08:56:52  940870749 Donald-ae\r\n",
      "2018-10-16 08:57:10  538458667 Donald-af\r\n"
     ]
    }
   ],
   "source": [
    "!aws s3 ls s3://$USER-$WORKSHOP-aws-bigdata-workshop/split/Donald/"
   ]
  },
  {
   "cell_type": "markdown",
   "metadata": {},
   "source": [
    "Get the sample locally on an EC2 instance in eu-west-1"
   ]
  },
  {
   "cell_type": "code",
   "execution_count": 10,
   "metadata": {},
   "outputs": [],
   "source": [
    "!mkdir workshop-data-sample"
   ]
  },
  {
   "cell_type": "code",
   "execution_count": 11,
   "metadata": {},
   "outputs": [],
   "source": [
    "!aws s3 cp s3://$USER-$WORKSHOP-aws-bigdata-workshop/sample/ workshop-data-sample/ --recursive --only-show-errors"
   ]
  },
  {
   "cell_type": "markdown",
   "metadata": {},
   "source": [
    "**Have a look inside the data** ; csvkit is a nice tool to play with data at the command-line"
   ]
  },
  {
   "cell_type": "code",
   "execution_count": 12,
   "metadata": {},
   "outputs": [
    {
     "name": "stdout",
     "output_type": "stream",
     "text": [
      "AFINN-en-165.txt\t\t\thillary.q\r\n",
      "Hillary-450-lines-Sample\t\tlast-day-Donald\r\n",
      "Hillary-450-lines-Sample-Header\t\tlast-day-Hillary\r\n",
      "Hillary-aa\t\t\t\tmini\r\n",
      "Hillary-header\t\t\t\toutput\r\n",
      "donald-with-sentiment.parquet\t\toutput_$folder$\r\n",
      "donald-with-sentiment.parquet_$folder$\tselect-count-hillary.q\r\n"
     ]
    }
   ],
   "source": [
    "!ls workshop-data-sample"
   ]
  },
  {
   "cell_type": "code",
   "execution_count": 13,
   "metadata": {},
   "outputs": [],
   "source": [
    "import pandas\n",
    "df = pandas.read_csv('workshop-data-sample/Hillary-450-lines-Sample-Header', sep='|',error_bad_lines=False)"
   ]
  },
  {
   "cell_type": "code",
   "execution_count": 14,
   "metadata": {},
   "outputs": [
    {
     "data": {
      "text/html": [
       "<div>\n",
       "<style scoped>\n",
       "    .dataframe tbody tr th:only-of-type {\n",
       "        vertical-align: middle;\n",
       "    }\n",
       "\n",
       "    .dataframe tbody tr th {\n",
       "        vertical-align: top;\n",
       "    }\n",
       "\n",
       "    .dataframe thead th {\n",
       "        text-align: right;\n",
       "    }\n",
       "</style>\n",
       "<table border=\"1\" class=\"dataframe\">\n",
       "  <thead>\n",
       "    <tr style=\"text-align: right;\">\n",
       "      <th></th>\n",
       "      <th>id</th>\n",
       "      <th>user</th>\n",
       "      <th>message</th>\n",
       "      <th>timestamp</th>\n",
       "      <th>date</th>\n",
       "    </tr>\n",
       "  </thead>\n",
       "  <tbody>\n",
       "    <tr>\n",
       "      <th>0</th>\n",
       "      <td>780543483404808200</td>\n",
       "      <td>williamjones8</td>\n",
       "      <td>RT @HillaryClinton: “You didn’t blame Little J...</td>\n",
       "      <td>1474931042000</td>\n",
       "      <td>2016-09-26 23:04:02</td>\n",
       "    </tr>\n",
       "    <tr>\n",
       "      <th>1</th>\n",
       "      <td>780543483258044400</td>\n",
       "      <td>MWChin</td>\n",
       "      <td>Starting with: Are you a perjurer or just a li...</td>\n",
       "      <td>1474931042000</td>\n",
       "      <td>2016-09-26 23:04:02</td>\n",
       "    </tr>\n",
       "    <tr>\n",
       "      <th>2</th>\n",
       "      <td>780543482993582100</td>\n",
       "      <td>hassaaninator</td>\n",
       "      <td>RT @HillaryClinton: “You didn’t blame Little J...</td>\n",
       "      <td>1474931042000</td>\n",
       "      <td>2016-09-26 23:04:02</td>\n",
       "    </tr>\n",
       "    <tr>\n",
       "      <th>3</th>\n",
       "      <td>780543482486284300</td>\n",
       "      <td>TJ_Pittinger</td>\n",
       "      <td>One of y'all let the 2013 @FSU_Football Team c...</td>\n",
       "      <td>1474931042000</td>\n",
       "      <td>2016-09-26 23:04:02</td>\n",
       "    </tr>\n",
       "    <tr>\n",
       "      <th>4</th>\n",
       "      <td>780543482024763400</td>\n",
       "      <td>GabrielleLozano</td>\n",
       "      <td>RT @Jeritron2016: @HillaryClinton has Green pa...</td>\n",
       "      <td>1474931042000</td>\n",
       "      <td>2016-09-26 23:04:02</td>\n",
       "    </tr>\n",
       "  </tbody>\n",
       "</table>\n",
       "</div>"
      ],
      "text/plain": [
       "                   id             user  \\\n",
       "0  780543483404808200    williamjones8   \n",
       "1  780543483258044400           MWChin   \n",
       "2  780543482993582100    hassaaninator   \n",
       "3  780543482486284300     TJ_Pittinger   \n",
       "4  780543482024763400  GabrielleLozano   \n",
       "\n",
       "                                             message      timestamp  \\\n",
       "0  RT @HillaryClinton: “You didn’t blame Little J...  1474931042000   \n",
       "1  Starting with: Are you a perjurer or just a li...  1474931042000   \n",
       "2  RT @HillaryClinton: “You didn’t blame Little J...  1474931042000   \n",
       "3  One of y'all let the 2013 @FSU_Football Team c...  1474931042000   \n",
       "4  RT @Jeritron2016: @HillaryClinton has Green pa...  1474931042000   \n",
       "\n",
       "                  date  \n",
       "0  2016-09-26 23:04:02  \n",
       "1  2016-09-26 23:04:02  \n",
       "2  2016-09-26 23:04:02  \n",
       "3  2016-09-26 23:04:02  \n",
       "4  2016-09-26 23:04:02  "
      ]
     },
     "execution_count": 14,
     "metadata": {},
     "output_type": "execute_result"
    }
   ],
   "source": [
    "df.head()"
   ]
  },
  {
   "cell_type": "code",
   "execution_count": 15,
   "metadata": {},
   "outputs": [
    {
     "data": {
      "text/plain": [
       "(450, 5)"
      ]
     },
     "execution_count": 15,
     "metadata": {},
     "output_type": "execute_result"
    }
   ],
   "source": [
    "df.shape"
   ]
  },
  {
   "cell_type": "code",
   "execution_count": null,
   "metadata": {},
   "outputs": [],
   "source": []
  }
 ],
 "metadata": {
  "kernelspec": {
   "display_name": "Python 3",
   "language": "python",
   "name": "python3"
  },
  "language_info": {
   "codemirror_mode": {
    "name": "ipython",
    "version": 3
   },
   "file_extension": ".py",
   "mimetype": "text/x-python",
   "name": "python",
   "nbconvert_exporter": "python",
   "pygments_lexer": "ipython3",
   "version": "3.4.8"
  }
 },
 "nbformat": 4,
 "nbformat_minor": 2
}
