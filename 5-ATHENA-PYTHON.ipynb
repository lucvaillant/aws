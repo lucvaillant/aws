{
 "cells": [
  {
   "cell_type": "markdown",
   "metadata": {},
   "source": [
    "**ATHENA WITH PYTHON3**\n",
    "==="
   ]
  },
  {
   "cell_type": "code",
   "execution_count": null,
   "metadata": {
    "collapsed": true
   },
   "outputs": [],
   "source": [
    "import boto3\n",
    "import pandas,os,io\n",
    "\n",
    "s3 = boto3.client('s3', region_name='eu-west-1')\n",
    "athena = boto3.client('athena', region_name='eu-west-1')\n",
    "bucket = os.getenv('USER')+\"-\"+os.getenv('WORKSHOP')+\"-aws-bigdata-workshop\"\n",
    "table = \"tweets-hillary-\"+os.getenv('USER')+os.getenv('WORKSHOP')\n",
    "print(\"Table NAME : \"+table)\n",
    "\n",
    "def do_query(query):\n",
    "    response = athena.start_query_execution(\n",
    "        QueryString=query,\n",
    "        QueryExecutionContext={\n",
    "            'Database': 'default'\n",
    "        },\n",
    "        ResultConfiguration={\n",
    "            'OutputLocation': 's3://'+bucket+'/athena/',\n",
    "        }\n",
    "    )\n",
    "    print (\"QueryExecutionId \"+response['QueryExecutionId'])\n",
    "    return response['QueryExecutionId']\n",
    "\n",
    "def get_result(rid):\n",
    "    try:\n",
    "        response = athena.get_query_results(\n",
    "            QueryExecutionId=\"\"+rid\n",
    "        )\n",
    "        key = 'athena/'+rid+'.csv'\n",
    "        obj = client.get_object(Bucket=bucket, Key=key)\n",
    "        df = pandas.read_csv(io.BytesIO(obj['Body'].read()), encoding='utf8',lineterminator='\\n')\n",
    "        return df\n",
    "    except :\n",
    "        print(\"error or Query has not yet finished\")\n"
   ]
  },
  {
   "cell_type": "code",
   "execution_count": null,
   "metadata": {
    "collapsed": true
   },
   "outputs": [],
   "source": [
    "create = \" \\\n",
    "    CREATE EXTERNAL TABLE IF NOT EXISTS default.\"+table+\" ( \\\n",
    "      `id` bigint, \\\n",
    "      `name` string, \\\n",
    "      `message` string, \\\n",
    "      `ts` bigint, \\\n",
    "      `isodate` timestamp, \\\n",
    "      `date` string \\\n",
    "    ) \\\n",
    "    ROW FORMAT SERDE 'org.apache.hadoop.hive.serde2.lazy.LazySimpleSerDe' \\\n",
    "    WITH SERDEPROPERTIES ( \\\n",
    "      'serialization.format' = ',', \\\n",
    "      'field.delim' = '|' \\\n",
    "    ) LOCATION 's3://aws-potus-eu-west-1/split/Hillary/' \\\n",
    "    TBLPROPERTIES ('has_encrypted_data'='false'); \\\n",
    "    \""
   ]
  },
  {
   "cell_type": "code",
   "execution_count": null,
   "metadata": {
    "collapsed": true
   },
   "outputs": [],
   "source": [
    "r = do_query(create)"
   ]
  },
  {
   "cell_type": "code",
   "execution_count": null,
   "metadata": {
    "collapsed": true
   },
   "outputs": [],
   "source": [
    "r = do_query(\"select count(distinct id) from \"+table+\" where message like '%trump%';\")"
   ]
  },
  {
   "cell_type": "code",
   "execution_count": null,
   "metadata": {
    "collapsed": true
   },
   "outputs": [],
   "source": [
    "df = get_result(r)\n",
    "df.head()"
   ]
  },
  {
   "cell_type": "code",
   "execution_count": null,
   "metadata": {
    "collapsed": true
   },
   "outputs": [],
   "source": [
    "r = do_query(\"select * from \"+table+\" where message like '%trump%';\")"
   ]
  },
  {
   "cell_type": "code",
   "execution_count": null,
   "metadata": {
    "collapsed": true
   },
   "outputs": [],
   "source": [
    "df = get_result(r)\n",
    "df.head()"
   ]
  },
  {
   "cell_type": "code",
   "execution_count": null,
   "metadata": {
    "collapsed": true
   },
   "outputs": [],
   "source": [
    "r = do_query(\"select count(distinct id) from \"+table+\" ;\")"
   ]
  },
  {
   "cell_type": "code",
   "execution_count": null,
   "metadata": {
    "collapsed": true
   },
   "outputs": [],
   "source": [
    "df = get_result(r)\n",
    "df.head()"
   ]
  },
  {
   "cell_type": "markdown",
   "metadata": {},
   "source": [
    "**ALTERNATIVE : ATHENA WITH AWS CONSOLE**\n",
    "==="
   ]
  },
  {
   "cell_type": "markdown",
   "metadata": {},
   "source": [
    "Steps :\n",
    "\n",
    "    Go to https://console.aws.amazon.com/athena/home?region=us-east-1#\n",
    "    In the query editor\n",
    "    Left click \"Add table\"\n",
    "    In the dropdown choose\"Create a new table”\n",
    "    Choose the name {{user}}\n",
    "    Choose a name for your first table \"clinton”\n",
    "    Choose the path as s3://aws-potus/split/Hillary/\n",
    "    For dataformat tab choose \"Text File with Custom Delimiters\"\n",
    "        then \"Other\" as \"Field delimiter\" and | as value\n",
    "    For columns tab choose\n",
    "        id : bigint / user : string / message : string / ts : bigint / date : timestamp\n",
    "        no changes for partition\n",
    "    And to finish \"create table\"\n",
    "\n",
    "Requests :\n",
    "\n",
    "    select count(distinct id) from clinton where message like '%obama%';\n",
    "    select * from clinton limit 100;\n",
    "    select count(distinct id) from clinton;\n",
    "    select count(distinct id) from clinton where message like '%obama%';\n",
    "\n"
   ]
  },
  {
   "cell_type": "markdown",
   "metadata": {},
   "source": [
    "ALTERNATIVES : HIVE and DEMO on EMR\n",
    "===\n",
    "\n",
    "Init\n",
    " - `aws emr create-default-roles --region eu-west-1`\n",
    " - `aws emr create-cluster --release-label emr-5.4.0 --name \"EMR cluster\" --applications Name=Hue Name=Hive Name=Presto --instance-type m3.xlarge --use-default-roles --instance-count 3 --region eu-west-1 --ec2-attributes KeyName=YOUR-KEY-PAIR`\n",
    " - Get your ip with https://www.google.fr/search?hl=en&safe=off&q=what+is+my+ip\n",
    " - Modify security group for your master node and authorize your ip\n",
    " - `ssh -i YOUR-PEM hadoop@IP`\n",
    " - `hive`\n",
    " - ``CREATE EXTERNAL TABLE clinton (`id` bigint,`user` string,`message` string,`ts` bigint,`date` timestamp) ROW FORMAT DELIMITED FIELDS TERMINATED BY '|' LINES TERMINATED BY '\\n' LOCATION 's3://aws-potus-eu-west-1/split/Hillary/';``\n",
    " - `exit;`\n",
    "\n",
    "Hive\n",
    " - `hive`\n",
    " - `select count(distinct id) from clinton where message like '%obama%';`\n",
    " - `select * from clinton limit 100;`\n",
    " - `select count(distinct id) from clinton;`\n",
    " - `select count(distinct id) from clinton where message like '%obama%';`\n",
    " - `exit;`\n",
    "\n",
    "Presto\n",
    " - `presto-cli --catalog hive --schema default ;`\n",
    " - `select count(distinct id) from clinton where message like '%obama%';`\n",
    " - `select * from clinton limit 100;`\n",
    " - `select count(distinct id) from clinton;`\n",
    " - `select count(distinct id) from clinton where message like '%obama%';`\n",
    " - `exit`\n",
    " \n",
    "HUE\n",
    " -  Open security group for IP on the master node on port 8888\n",
    " - Go to http://EMR-MASTER-IP:8888\n",
    " \n",
    " **Time to delete your EMR Cluster :)**\n",
    "\n",
    "\n",
    "   \n",
    "   \n",
    "\n",
    "\n",
    "\n",
    "\n"
   ]
  },
  {
   "cell_type": "code",
   "execution_count": null,
   "metadata": {
    "collapsed": true
   },
   "outputs": [],
   "source": []
  }
 ],
 "metadata": {
  "kernelspec": {
   "display_name": "Python 3",
   "language": "python",
   "name": "python3"
  },
  "language_info": {
   "codemirror_mode": {
    "name": "ipython",
    "version": 3
   },
   "file_extension": ".py",
   "mimetype": "text/x-python",
   "name": "python",
   "nbconvert_exporter": "python",
   "pygments_lexer": "ipython3",
   "version": "3.6.2"
  }
 },
 "nbformat": 4,
 "nbformat_minor": 2
}
