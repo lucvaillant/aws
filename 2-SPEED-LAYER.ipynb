{
 "cells": [
  {
   "cell_type": "markdown",
   "metadata": {},
   "source": [
    "SPEED LAYER : S3 + Lambda + Firehose + Elasticsearch Service + Kibana\n",
    "===\n",
    "___\n",
    "\n",
    "**1. Create the bucket that will receive your files**\n"
   ]
  },
  {
   "cell_type": "code",
   "execution_count": null,
   "metadata": {
    "collapsed": true
   },
   "outputs": [],
   "source": [
    "!aws s3api create-bucket --bucket $USER-$WORKSHOP-potus-coming --region eu-west-1 \\\n",
    "--create-bucket-configuration LocationConstraint=eu-west-1 "
   ]
  },
  {
   "cell_type": "markdown",
   "metadata": {},
   "source": [
    "** 2. Create the lambda function used to stream data received on S3 **\n"
   ]
  },
  {
   "cell_type": "markdown",
   "metadata": {},
   "source": [
    "- Before creating the lambda function, it is mandatory to create a role for this lambda function. There are 2 steps to assign a role to a specific service : \n",
    "    - Create a policy that will allow the service to assume a role\n",
    "    - Create the policy attached to the role"
   ]
  },
  {
   "cell_type": "markdown",
   "metadata": {},
   "source": [
    "** 2.a Create the policy that will allow our lambda to assume a role **"
   ]
  },
  {
   "cell_type": "code",
   "execution_count": null,
   "metadata": {
    "collapsed": true
   },
   "outputs": [],
   "source": [
    "%%bash\n",
    "echo \"\"\"{\n",
    "  \\\"Version\\\":\\\"2012-10-17\\\",\n",
    "  \\\"Statement\\\": [\n",
    "    {\n",
    "      \\\"Effect\\\": \\\"Allow\\\",\n",
    "      \\\"Principal\\\": {\n",
    "        \\\"Service\\\": \\\"lambda.amazonaws.com\\\"\n",
    "      },\n",
    "      \\\"Action\\\": \\\"sts:AssumeRole\\\"\n",
    "    }\n",
    "  ]\n",
    "}\">assumerole-lambda-policy.json"
   ]
  },
  {
   "cell_type": "markdown",
   "metadata": {},
   "source": [
    "** 2.b Create an Inline policy for this lambda function (S3 Get  + S3 List) **"
   ]
  },
  {
   "cell_type": "code",
   "execution_count": null,
   "metadata": {
    "collapsed": true
   },
   "outputs": [],
   "source": [
    "%%bash\n",
    "echo \"{\n",
    "  \\\"Version\\\": \\\"2012-10-17\\\",\n",
    "  \\\"Statement\\\": [\n",
    "    {\n",
    "      \\\"Effect\\\": \\\"Allow\\\",\n",
    "      \\\"Action\\\": [\n",
    "        \\\"s3:Get*\\\",\n",
    "        \\\"s3:List*\\\"\n",
    "      ],\n",
    "      \\\"Resource\\\": \\\"arn:aws:s3:::*\\\"\n",
    "    }\n",
    "  ]\n",
    "}\">s3-read-policy.json"
   ]
  },
  {
   "cell_type": "markdown",
   "metadata": {},
   "source": [
    "** 2.c Create the role associated to the lambda : **"
   ]
  },
  {
   "cell_type": "code",
   "execution_count": null,
   "metadata": {
    "collapsed": true
   },
   "outputs": [],
   "source": [
    "!aws iam create-role --role-name $USER-$WORKSHOP-role-lambda-speedlayer --assume-role-policy-document file://assumerole-lambda-policy.json"
   ]
  },
  {
   "cell_type": "markdown",
   "metadata": {},
   "source": [
    "Attached the ** inline ** s3-read-policy to the role"
   ]
  },
  {
   "cell_type": "code",
   "execution_count": null,
   "metadata": {
    "collapsed": true
   },
   "outputs": [],
   "source": [
    "!aws iam put-role-policy --role-name $USER-$WORKSHOP-role-lambda-speedlayer --policy-name $USER-$WORKSHOP-lambda-s3-r \\\n",
    "  --policy-document file://s3-read-policy.json"
   ]
  },
  {
   "cell_type": "markdown",
   "metadata": {},
   "source": [
    "Attach 2 **managed** policies to the role : \n",
    "- AWS Lambda Basic Execution\n",
    "- AWS Amazon Kinesis Firehose Full Access"
   ]
  },
  {
   "cell_type": "markdown",
   "metadata": {
    "collapsed": true
   },
   "source": [
    "** Lambda Basic Execution **\n",
    "```javascript\n",
    "{\n",
    "  \"Version\": \"2012-10-17\",\n",
    "  \"Statement\": [\n",
    "    {\n",
    "      \"Effect\": \"Allow\",\n",
    "      \"Action\": [\n",
    "        \"logs:CreateLogGroup\",\n",
    "        \"logs:CreateLogStream\",\n",
    "        \"logs:PutLogEvents\"\n",
    "      ],\n",
    "      \"Resource\": \"*\"\n",
    "    }\n",
    "  ]\n",
    "}```"
   ]
  },
  {
   "cell_type": "markdown",
   "metadata": {
    "collapsed": true
   },
   "source": [
    "** Amazon Kinesis Firehose Full Access **\n",
    "```javascript\n",
    "{\n",
    "    \"Version\": \"2012-10-17\",\n",
    "    \"Statement\": [\n",
    "        {\n",
    "            \"Action\": [\n",
    "                \"firehose:*\"\n",
    "            ],\n",
    "            \"Effect\": \"Allow\",\n",
    "            \"Resource\": \"*\"\n",
    "        }\n",
    "    ]\n",
    "}```\n"
   ]
  },
  {
   "cell_type": "code",
   "execution_count": null,
   "metadata": {
    "collapsed": true
   },
   "outputs": [],
   "source": [
    "!aws iam attach-role-policy --role-name $USER-$WORKSHOP-role-lambda-speedlayer \\\n",
    "--policy-arn arn:aws:iam::aws:policy/service-role/AWSLambdaBasicExecutionRole"
   ]
  },
  {
   "cell_type": "code",
   "execution_count": null,
   "metadata": {
    "collapsed": true
   },
   "outputs": [],
   "source": [
    "!aws iam attach-role-policy --role-name $USER-$WORKSHOP-role-lambda-speedlayer \\\n",
    "--policy-arn arn:aws:iam::aws:policy/AmazonKinesisFirehoseFullAccess"
   ]
  },
  {
   "cell_type": "markdown",
   "metadata": {},
   "source": [
    "** 2.d Create lambda function with the following parameters **\n",
    "    - Name : $USER-$WORKSHOP-speedlayer\n",
    "    - runtime : nodejs6.10\n",
    "    - role : $USER-$WORKSHOP-role-lambda-speedlayer\n",
    "    - handler : $USER-$WORKSHOP-function.handler\n",
    "    - code : S3 source\n",
    "    - environment : Variable d'env DELIVERY_STREAM_NAME\n",
    "    - region\n",
    "    "
   ]
  },
  {
   "cell_type": "markdown",
   "metadata": {},
   "source": [
    "\n",
    "```javascript\n",
    "//START\n",
    "'use strict';\n",
    "\n",
    "console.log('Loading function');\n",
    "\n",
    "const aws = require('aws-sdk');\n",
    "const firehose = new aws.Firehose();\n",
    "const s3 = new aws.S3({ apiVersion: '2006-03-01' });\n",
    "\n",
    "function sendToFirehose(recordsForFirehose){\n",
    "    var paramsFirehose = {\n",
    "        DeliveryStreamName: process.env.DELIVERY_STREAM_NAME, // required\n",
    "        Records: recordsForFirehose\n",
    "    };\n",
    "    console.log(recordsForFirehose);\n",
    "    firehose.putRecordBatch(paramsFirehose, function(err, data) {\n",
    "        if (err) console.log(err, err.stack); // an error occurred\n",
    "        else     console.log(data);           // successful response\n",
    "    });\n",
    "}\n",
    "\n",
    "function manageData(csvData){\n",
    "    var recordsForFirehose = new Array();\n",
    "    var lines = csvData.split(\"\\n\"); \n",
    "    var i = 0 ;\n",
    "    var errors = 0 ;\n",
    "    lines.forEach(function(line) {\n",
    "        if (line!==\"\"){\n",
    "            try{\n",
    "                var fields = line.split(\"|\");\n",
    "                var isoDate = null ;\n",
    "                isoDate = new Date(fields[4]).toISOString() ;  \n",
    "                var recordForFirehose = {\n",
    "                    id : fields[0],\n",
    "                    name : fields[1],\n",
    "                    text : fields[2],\n",
    "                    date: isoDate,\n",
    "                    isodate: fields[4],\n",
    "                    time: fields[3]\n",
    "                };\n",
    "                recordsForFirehose[i] = {Data:JSON.stringify(recordForFirehose)} ;\n",
    "                i++;\n",
    "            }catch(e){\n",
    "                errors++;\n",
    "            }\n",
    "        }\n",
    "    });\n",
    "    console.log(\"errors:\"+errors);\n",
    "    sendToFirehose(recordsForFirehose)\n",
    "\n",
    "}\n",
    "\n",
    "exports.handler = (event, context, callback) => {\n",
    "    //console.log('Received event:', JSON.stringify(event, null, 2));\n",
    "\n",
    "    // Get the object from the event and show its content type\n",
    "    const bucket = event.Records[0].s3.bucket.name;\n",
    "    const key = decodeURIComponent(event.Records[0].s3.object.key.replace(/\\+/g, ' '));\n",
    "    const params = {\n",
    "        Bucket: bucket,\n",
    "        Key: key,\n",
    "    };\n",
    "    s3.getObject(params, (err, data) => {\n",
    "        if (err) {\n",
    "            console.log(err);\n",
    "            const message = `Error getting object ${key} from bucket ${bucket}. Make sure they exist and your bucket is in the same region as this function.`;\n",
    "            console.log(message);\n",
    "            callback(message);\n",
    "        } else {\n",
    "            console.log('CONTENT TYPE:', data.ContentType);\n",
    "            manageData(data.Body.toString('ascii'));\n",
    "            callback(null, data.ContentType);\n",
    "        }\n",
    "    });\n",
    "};\n",
    "//END\n",
    "```"
   ]
  },
  {
   "cell_type": "code",
   "execution_count": null,
   "metadata": {
    "collapsed": true
   },
   "outputs": [],
   "source": [
    "!aws lambda create-function --function-name $USER-$WORKSHOP-speedlayer \\\n",
    "--runtime nodejs6.10 --role arn:aws:iam::$ACCOUNTID:role/$USER-$WORKSHOP-role-lambda-speedlayer \\\n",
    "--handler speedlayer-function.handler --code S3Bucket=aws-potus-eu-west-1,S3Key=jupyter/speedlayer-function.zip \\\n",
    "--environment Variables=\"{DELIVERY_STREAM_NAME=$USER-$WORKSHOP-potus-ds-clinton}\" --region eu-west-1"
   ]
  },
  {
   "cell_type": "markdown",
   "metadata": {},
   "source": [
    "** 2.e Invoke Lambda function when objects are added to s3 **"
   ]
  },
  {
   "cell_type": "code",
   "execution_count": null,
   "metadata": {
    "collapsed": true
   },
   "outputs": [],
   "source": [
    "!aws lambda add-permission --function-name $USER-$WORKSHOP-speedlayer --region eu-west-1 --statement-id 123456780-$USER-$WORKSHOP \\\n",
    "--action \"lambda:InvokeFunction\" --principal s3.amazonaws.com \\\n",
    "--source-arn arn:aws:s3:::$USER-$WORKSHOP-potus-coming --source-account $ACCOUNTID"
   ]
  },
  {
   "cell_type": "markdown",
   "metadata": {},
   "source": [
    "Configure the event that will trigger the lambda function on the bucket S3 "
   ]
  },
  {
   "cell_type": "code",
   "execution_count": null,
   "metadata": {
    "collapsed": true
   },
   "outputs": [],
   "source": [
    "%%bash\n",
    "echo \"{\n",
    "    \\\"LambdaFunctionConfigurations\\\": [\n",
    "        {\n",
    "            \\\"LambdaFunctionArn\\\": \\\"arn:aws:lambda:eu-west-1:$ACCOUNTID:function:$USER-$WORKSHOP-speedlayer\\\",\n",
    "            \\\"Events\\\": [\n",
    "                \\\"s3:ObjectCreated:*\\\"\n",
    "            ],\n",
    "            \\\"Filter\\\": {\n",
    "             \\\"Key\\\": {\n",
    "              \\\"FilterRules\\\":[\n",
    "                {\n",
    "                 \\\"Name\\\": \\\"prefix\\\",\n",
    "                 \\\"Value\\\": \\\"clinton/\\\"\n",
    "                }\n",
    "               ]\n",
    "              }\n",
    "             }\n",
    "        }\n",
    "    ]\n",
    "}\">s3-trigger-lambda.json"
   ]
  },
  {
   "cell_type": "code",
   "execution_count": null,
   "metadata": {
    "collapsed": true
   },
   "outputs": [],
   "source": [
    "!aws s3api put-bucket-notification-configuration --bucket $USER-$WORKSHOP-potus-coming \\\n",
    "--notification-configuration file://s3-trigger-lambda.json"
   ]
  },
  {
   "cell_type": "markdown",
   "metadata": {},
   "source": [
    "The lambda function will now be triggered each time an object is added to the bucket $USER-$WORKSHOP-potus-coming"
   ]
  },
  {
   "cell_type": "markdown",
   "metadata": {},
   "source": [
    "** 3. ElasticSearch Cluster Creation **\n"
   ]
  },
  {
   "cell_type": "code",
   "execution_count": null,
   "metadata": {
    "collapsed": true
   },
   "outputs": [],
   "source": [
    "!aws es create-elasticsearch-domain --domain-name $USER-$WORKSHOP-potus --elasticsearch-version 5.1 \\\n",
    "  --elasticsearch-cluster-config  InstanceType=m3.large.elasticsearch,InstanceCount=1 \\\n",
    "  --ebs-options EBSEnabled=true,VolumeType=gp2,VolumeSize=160 --region eu-west-1"
   ]
  },
  {
   "cell_type": "markdown",
   "metadata": {},
   "source": [
    "You will need to push a policy to update the access policy in order to be able to access ES and Kibana from your IP.\n",
    "To get your IP address : https://www.google.fr/search?hl=en&safe=off&q=what+is+my+ip \n",
    "\n",
    "***Don't forget to change PUBLICIP in the cell below in the form www.xxx.yyy.zzz.*** "
   ]
  },
  {
   "cell_type": "code",
   "execution_count": null,
   "metadata": {
    "collapsed": true
   },
   "outputs": [],
   "source": [
    "%env MY_IP="
   ]
  },
  {
   "cell_type": "code",
   "execution_count": null,
   "metadata": {
    "collapsed": true
   },
   "outputs": [],
   "source": [
    "%%bash\n",
    "echo \"{\n",
    "  \\\"Version\\\": \\\"2012-10-17\\\",\n",
    "  \\\"Statement\\\": [\n",
    "    {\n",
    "      \\\"Effect\\\": \\\"Allow\\\",\n",
    "      \\\"Principal\\\": \\\"*\\\",\n",
    "      \\\"Action\\\": \\\"es:ESHttp*\\\",\n",
    "      \\\"Resource\\\": \\\"arn:aws:es:eu-west-1:$ACCOUNTID:domain/$USER-$WORKSHOP-potus/*\\\",\n",
    "      \\\"Condition\\\": {\n",
    "        \\\"IpAddress\\\": {\n",
    "          \\\"aws:SourceIp\\\": \\\"$MY_IP/32\\\"\n",
    "        }\n",
    "      }\n",
    "    }\n",
    "  ]\n",
    "}\">es-access-policy.json"
   ]
  },
  {
   "cell_type": "code",
   "execution_count": null,
   "metadata": {
    "collapsed": true
   },
   "outputs": [],
   "source": [
    "!aws es update-elasticsearch-domain-config --region eu-west-1 \\\n",
    " --domain-name $USER-$WORKSHOP-potus \\\n",
    "    --access-policies file://es-access-policy.json"
   ]
  },
  {
   "cell_type": "markdown",
   "metadata": {},
   "source": [
    "You can review you cluster with the following command"
   ]
  },
  {
   "cell_type": "code",
   "execution_count": null,
   "metadata": {
    "collapsed": true
   },
   "outputs": [],
   "source": [
    "!aws es describe-elasticsearch-domain --domain $USER-$WORKSHOP-potus --region eu-west-1"
   ]
  },
  {
   "cell_type": "markdown",
   "metadata": {},
   "source": [
    "**4. Create the Kinesis Firehose**\n",
    "\n",
    "As previously done for the lambda function, before creating a service (here firehose) we need to create a role associated to this service. This is done in 4 steps : \n",
    "\n",
    "- Create a policy allowing the firehose to assume a role\n",
    "- Create a policy for the role (Inline policy)\n",
    "- Create a role\n",
    "- Attach the Inline policy to the role\n",
    "-"
   ]
  },
  {
   "cell_type": "code",
   "execution_count": null,
   "metadata": {
    "collapsed": true
   },
   "outputs": [],
   "source": [
    "%%bash\n",
    "echo \"\"\"{\n",
    "  \\\"Version\\\":\\\"2012-10-17\\\",\n",
    "  \\\"Statement\\\": [\n",
    "    {\n",
    "      \\\"Effect\\\": \\\"Allow\\\",\n",
    "      \\\"Principal\\\": {\n",
    "        \\\"Service\\\": \\\"firehose.amazonaws.com\\\"\n",
    "      },\n",
    "      \\\"Action\\\": \\\"sts:AssumeRole\\\"\n",
    "    }\n",
    "  ]\n",
    "}\">assumerole-firehose-policy.json"
   ]
  },
  {
   "cell_type": "code",
   "execution_count": null,
   "metadata": {
    "collapsed": true
   },
   "outputs": [],
   "source": [
    "%%bash\n",
    "echo \"{\n",
    "  \\\"Version\\\": \\\"2012-10-17\\\",\n",
    "  \\\"Statement\\\": [\n",
    "    {\n",
    "      \\\"Effect\\\": \\\"Allow\\\",\n",
    "      \\\"Action\\\": [\n",
    "        \\\"s3:*\\\",\n",
    "        \\\"es:*\\\"\n",
    "      ],\n",
    "      \\\"Resource\\\": \\\"*\\\"\n",
    "    }\n",
    "  ]\n",
    "}\">es-policy.json"
   ]
  },
  {
   "cell_type": "code",
   "execution_count": null,
   "metadata": {
    "collapsed": true
   },
   "outputs": [],
   "source": [
    "!aws iam create-role --role-name $USER-$WORKSHOP-role-firehose-speedlayer --assume-role-policy-document \\\n",
    "file://assumerole-firehose-policy.json"
   ]
  },
  {
   "cell_type": "code",
   "execution_count": null,
   "metadata": {
    "collapsed": true
   },
   "outputs": [],
   "source": [
    "!aws iam put-role-policy --role-name $USER-$WORKSHOP-role-firehose-speedlayer --policy-name es-policy \\\n",
    "  --policy-document file://es-policy.json"
   ]
  },
  {
   "cell_type": "markdown",
   "metadata": {},
   "source": [
    "** Now we create the firehose delivery stream **"
   ]
  },
  {
   "cell_type": "code",
   "execution_count": null,
   "metadata": {
    "collapsed": true
   },
   "outputs": [],
   "source": [
    "%%bash\n",
    "echo \"{\n",
    "  \\\"RoleARN\\\": \\\"arn:aws:iam::$ACCOUNTID:role/$USER-$WORKSHOP-role-firehose-speedlayer\\\",\n",
    "  \\\"DomainARN\\\": \\\"arn:aws:es:eu-west-1:$ACCOUNT:domain/$USER-$WORKSHOP-potus\\\",\n",
    "  \\\"IndexName\\\": \\\"clinton\\\",\n",
    "  \\\"TypeName\\\": \\\"message\\\",\n",
    "  \\\"BufferingHints\\\": {\n",
    "    \\\"IntervalInSeconds\\\": 60,\n",
    "    \\\"SizeInMBs\\\": 5\n",
    "  },\n",
    "  \\\"IndexRotationPeriod\\\": \\\"NoRotation\\\",\n",
    "  \\\"RetryOptions\\\": {\n",
    "    \\\"DurationInSeconds\\\": 300\n",
    "  },\n",
    "  \\\"S3BackupMode\\\": \\\"FailedDocumentsOnly\\\",\n",
    "  \\\"S3Configuration\\\": {\n",
    "    \\\"RoleARN\\\": \\\"arn:aws:iam::$ACCOUNTID:role/$USER-$WORKSHOP-role-firehose-speedlayer\\\",\n",
    "    \\\"BucketARN\\\": \\\"arn:aws:s3:::$USER-$WORKSHOP-potus-coming\\\"\n",
    "    }\n",
    "}\">firehose2ES-configuration.json"
   ]
  },
  {
   "cell_type": "code",
   "execution_count": null,
   "metadata": {
    "collapsed": true,
    "scrolled": true
   },
   "outputs": [],
   "source": [
    "!aws firehose create-delivery-stream --delivery-stream-name $USER-$WORKSHOP-potus-ds-clinton \\\n",
    "--delivery-stream-type DirectPut --elasticsearch-destination-configuration file://firehose2ES-configuration.json \\\n",
    "--region eu-west-1"
   ]
  },
  {
   "cell_type": "markdown",
   "metadata": {},
   "source": [
    "\n",
    "___\n",
    "***Please wait your Elasticsearch Service Cluster to be ready.*** Configuration state should be **ACTIVE**\n",
    "\n",
    "To monitor that please look at https://eu-west-1.console.aws.amazon.com/es/home?region=eu-west-1\n",
    "___\n",
    "\n",
    "**5a. Now it's time to test our setup with a SAMPLE**\n"
   ]
  },
  {
   "cell_type": "code",
   "execution_count": null,
   "metadata": {
    "collapsed": true
   },
   "outputs": [],
   "source": [
    "!aws s3 cp workshop-data-sample/Hillary-450-lines-Sample \\\n",
    "    s3://$USER-$WORKSHOP-potus-coming/clinton/"
   ]
  },
  {
   "cell_type": "markdown",
   "metadata": {},
   "source": [
    "To follow the result - first wait for 60 seconds :\n",
    " - Then go to AWS Lambda console\n",
    " - Select your Lambda\n",
    " - Select *Monitoring* tab\n",
    " - Have a look on *Invocation counter*\n",
    " - If you want to have a look on the logs, click the link *View logs in CloudWatch*\n",
    " \n",
    "**5b. Now it's time to send flying data**\n",
    " \n",
    " We will emulate a live flow by streaming the data corresponding of the day of the election."
   ]
  },
  {
   "cell_type": "code",
   "execution_count": null,
   "metadata": {
    "collapsed": true
   },
   "outputs": [],
   "source": [
    "!find workshop-data-sample/last-day-Hillary/ -type f -exec aws s3 cp {} s3://$USER-$WORKSHOP-potus-coming/clinton/ \\; \\\n",
    "    -exec sleep 1 \\;"
   ]
  },
  {
   "cell_type": "markdown",
   "metadata": {
    "collapsed": true
   },
   "source": [
    "**6. KIBANA**\n",
    "\n",
    "To Finish and to see the result in Kibana \n",
    " - Go to  ES dashboard : https://eu-west-1.console.aws.amazon.com/es/home?region=eu-west-1\n",
    " - Click your domain *YOUR-USER-potus*\n",
    " - Click the link Kibana\n",
    " - Do the initial configuration ; for *Configure an index pattern*\n",
    "  - Uncheck *Index contains time-based events*\n",
    "  - For *Index name or pattern* put *clinton*\n",
    "  - Click *Create*\n",
    " - On top click *discover*\n",
    "  - Click the search icon\n",
    " \n",
    "**7. Usage**\n",
    "In DISCOVER mode\n",
    " - Query : text:*bill*\n",
    " - Query : text:*obama*\n",
    " - Query : text:*Trump*\n",
    "\n",
    "**8. Usage**\n",
    "Creation of a dashboard :\n",
    " - create a search called *messages* and save it\n",
    " - create 4 vizualisations \n",
    "  - one counter to count total messages\n",
    "  - one counter to count messages containing \"debate\"\n",
    "  - one histogram with 20 top user\n",
    "  - one piechart with top 5 terms\n",
    " - creation of the dashboard including these four elements \n",
    " \n",
    "**DEBUG** - Useful links for debugging: \n",
    " - S3 console : https://console.aws.amazon.com/s3/home?region=eu-west-1#&bucket=YOUR-USER-potus-coming&prefix=\n",
    " - Lambda console : https://eu-west-1.console.aws.amazon.com/lambda/home?region=eu-west-1#/\n",
    " - Firehose console : https://eu-west-1.console.aws.amazon.com/firehose/home?region=eu-west-1\n",
    " - Cloudwatch logs : https://eu-west-1.console.aws.amazon.com/cloudwatch/home?region=eu-west-1\n",
    " - ES dashboard : https://eu-west-1.console.aws.amazon.com/es/home?region=eu-west-1\n",
    " - Kibana with Kibana URL available on ES Dasboard\n",
    "    \n",
    "\n",
    "            "
   ]
  },
  {
   "cell_type": "markdown",
   "metadata": {
    "collapsed": true
   },
   "source": [
    "___\n",
    "Time for a DEMO of KIBANA\n",
    "___"
   ]
  }
 ],
 "metadata": {
  "kernelspec": {
   "display_name": "Python 3",
   "language": "python",
   "name": "python3"
  },
  "language_info": {
   "codemirror_mode": {
    "name": "ipython",
    "version": 3
   },
   "file_extension": ".py",
   "mimetype": "text/x-python",
   "name": "python",
   "nbconvert_exporter": "python",
   "pygments_lexer": "ipython3",
   "version": "3.6.2"
  }
 },
 "nbformat": 4,
 "nbformat_minor": 2
}
